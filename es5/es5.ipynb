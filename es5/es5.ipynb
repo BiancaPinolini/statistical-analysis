{
 "cells": [
  {
   "cell_type": "code",
   "execution_count": 1,
   "metadata": {},
   "outputs": [],
   "source": [
    "import numpy as np\n",
    "import math as mt\n",
    "import random\n",
    "from matplotlib import pyplot as plt\n",
    "from scipy import optimize\n",
    "from IPython.display import clear_output\n",
    "import matplotlib.mlab as mlab"
   ]
  },
  {
   "cell_type": "code",
   "execution_count": 2,
   "metadata": {},
   "outputs": [],
   "source": [
    "def f(x):\n",
    "    return mt.e**x"
   ]
  },
  {
   "cell_type": "markdown",
   "metadata": {},
   "source": [
    "# crude MC"
   ]
  },
  {
   "cell_type": "code",
   "execution_count": 3,
   "metadata": {},
   "outputs": [],
   "source": [
    "Integral = np.array([])\n",
    "Vars = np.array([])"
   ]
  },
  {
   "cell_type": "code",
   "execution_count": 4,
   "metadata": {},
   "outputs": [],
   "source": [
    "for j in range (1000):\n",
    "    num = np.array([])\n",
    "    v = 0\n",
    "    \n",
    "    for i in range (128):\n",
    "        x = random.uniform(0,1)\n",
    "        num = np.append(num, f(x))\n",
    "        \n",
    "    m = num.mean()\n",
    "    Integral = np.append(Integral, m)\n",
    "    \n",
    "    for i in range (128):\n",
    "        v = v + (num[i]-m)**2\n",
    "    v = v/(128-1)\n",
    "    v = v/128\n",
    "    Vars = np.append(Vars, v)"
   ]
  },
  {
   "cell_type": "code",
   "execution_count": 5,
   "metadata": {},
   "outputs": [
    {
     "data": {
      "text/plain": [
       "0.001894339452920484"
      ]
     },
     "execution_count": 5,
     "metadata": {},
     "output_type": "execute_result"
    }
   ],
   "source": [
    "Vars.mean()"
   ]
  },
  {
   "cell_type": "code",
   "execution_count": 6,
   "metadata": {},
   "outputs": [
    {
     "data": {
      "text/plain": [
       "0.0019422456308393502"
      ]
     },
     "execution_count": 6,
     "metadata": {},
     "output_type": "execute_result"
    }
   ],
   "source": [
    "Integral.var()"
   ]
  },
  {
   "cell_type": "code",
   "execution_count": 7,
   "metadata": {},
   "outputs": [
    {
     "data": {
      "text/plain": [
       "1.6565338028424623"
      ]
     },
     "execution_count": 7,
     "metadata": {},
     "output_type": "execute_result"
    }
   ],
   "source": [
    "Integral[0]"
   ]
  },
  {
   "cell_type": "code",
   "execution_count": 8,
   "metadata": {},
   "outputs": [
    {
     "data": {
      "text/plain": [
       "3.853732404091025e-06"
      ]
     },
     "execution_count": 8,
     "metadata": {},
     "output_type": "execute_result"
    }
   ],
   "source": [
    "(Integral[0]-Integral.mean())**2/1000"
   ]
  },
  {
   "cell_type": "code",
   "execution_count": 9,
   "metadata": {},
   "outputs": [
    {
     "data": {
      "image/png": "[encoded data removed]",
      "text/plain": [
       "<Figure size 432x288 with 1 Axes>"
      ]
     },
     "metadata": {
      "needs_background": "light"
     },
     "output_type": "display_data"
    }
   ],
   "source": [
    "plt.hist(Integral, 25, color='blue')\n",
    "plt.xlabel('$Q_N$', fontsize=16)\n",
    "plt.ylabel('counts', fontsize=16)\n",
    "plt.show()"
   ]
  },
  {
   "cell_type": "code",
   "execution_count": 10,
   "metadata": {},
   "outputs": [],
   "source": [
    "IntegralMC = Integral"
   ]
  },
  {
   "cell_type": "code",
   "execution_count": 11,
   "metadata": {},
   "outputs": [
    {
     "data": {
      "image/png": "[encoded data removed]",
      "text/plain": [
       "<Figure size 432x288 with 1 Axes>"
      ]
     },
     "metadata": {
      "needs_background": "light"
     },
     "output_type": "display_data"
    }
   ],
   "source": [
    "plt.hist(Vars, 25, color='blue')\n",
    "plt.xlabel('$\\hat{\\sigma}^2$', fontsize=16)\n",
    "plt.ylabel('Counts', fontsize=16)\n",
    "plt.show()"
   ]
  },
  {
   "cell_type": "code",
   "execution_count": 12,
   "metadata": {},
   "outputs": [],
   "source": [
    "m2 = np.mean(Integral)"
   ]
  },
  {
   "cell_type": "code",
   "execution_count": 13,
   "metadata": {},
   "outputs": [
    {
     "data": {
      "text/plain": [
       "6"
      ]
     },
     "execution_count": 13,
     "metadata": {},
     "output_type": "execute_result"
    }
   ],
   "source": [
    "i = 3\n",
    "i += 3\n",
    "i"
   ]
  },
  {
   "cell_type": "code",
   "execution_count": 14,
   "metadata": {},
   "outputs": [],
   "source": [
    "somma = 0\n",
    "for i in range (1000):\n",
    "    somma += (Integral[i]-m2)**2\n",
    "\n",
    "sigma_tilde = mt.sqrt(somma/999)\n",
    "sigma_I = sigma_tilde/mt.sqrt(1000)"
   ]
  },
  {
   "cell_type": "code",
   "execution_count": 15,
   "metadata": {},
   "outputs": [
    {
     "data": {
      "text/plain": [
       "0.001394342074478142"
      ]
     },
     "execution_count": 15,
     "metadata": {},
     "output_type": "execute_result"
    }
   ],
   "source": [
    "sigma_I"
   ]
  },
  {
   "cell_type": "code",
   "execution_count": 16,
   "metadata": {},
   "outputs": [
    {
     "data": {
      "text/plain": [
       "0.04409296792755063"
      ]
     },
     "execution_count": 16,
     "metadata": {},
     "output_type": "execute_result"
    }
   ],
   "source": [
    "sigma_tilde"
   ]
  },
  {
   "cell_type": "code",
   "execution_count": 17,
   "metadata": {},
   "outputs": [
    {
     "data": {
      "text/plain": [
       "0.04352401007398656"
      ]
     },
     "execution_count": 17,
     "metadata": {},
     "output_type": "execute_result"
    }
   ],
   "source": [
    "v2 = np.mean(Vars)\n",
    "np.sqrt(v2)"
   ]
  },
  {
   "cell_type": "code",
   "execution_count": 18,
   "metadata": {},
   "outputs": [
    {
     "name": "stdout",
     "output_type": "stream",
     "text": [
      "For crude MC with 128 samples we have:\n",
      "\tmean\t= 1.71861\n",
      "\terr\t= 0.00138\n",
      "\n"
     ]
    }
   ],
   "source": [
    "\n",
    "s2 = np.sqrt(v2/1000)\n",
    "print(f'For crude MC with 128 samples we have:\\n'\n",
    "     f'\\tmean\\t= {round(m2,5)}\\n\\terr\\t= {round(s2,5)}\\n')"
   ]
  },
  {
   "cell_type": "markdown",
   "metadata": {
    "scrolled": true
   },
   "source": [
    "mean_s = np.array([])\n",
    "var_s = np.array([])\n",
    "val_s = np.array([])\n",
    "\n",
    "Ns = np.arange(100, 2500, 200)\n",
    "for Ni in Ns:\n",
    "    Integral = np.array([])\n",
    "    for j in range (1000):\n",
    "        num = np.array([])\n",
    "        for i in range (Ni):\n",
    "            x = random.uniform(0,1)\n",
    "            num = np.append(num, f(x))\n",
    "        Integral = np.append(Integral, num.mean())\n",
    "    mean_s = np.append(mean_s, Integral.mean())\n",
    "    var_s = np.append(var_s, Integral.var())\n",
    "    val_s = np.append(val_s, Integral[0])"
   ]
  },
  {
   "cell_type": "markdown",
   "metadata": {
    "scrolled": true
   },
   "source": [
    "plt.plot(Ns, np.sqrt(var_s), 'go', color='green')\n",
    "plt.xlabel('N', fontsize=16)\n",
    "plt.ylabel('$\\sigma_I$', fontsize=16)\n",
    "plt.show()"
   ]
  },
  {
   "cell_type": "code",
   "execution_count": 19,
   "metadata": {},
   "outputs": [],
   "source": [
    "def test_func(x,a):\n",
    "    return a / np.sqrt(x)"
   ]
  },
  {
   "cell_type": "code",
   "execution_count": 20,
   "metadata": {},
   "outputs": [],
   "source": [
    "from scipy import optimize\n",
    "from IPython.display import clear_output\n",
    "import matplotlib.mlab as mlab"
   ]
  },
  {
   "cell_type": "code",
   "execution_count": 21,
   "metadata": {},
   "outputs": [
    {
     "ename": "NameError",
     "evalue": "name 'Ns' is not defined",
     "output_type": "error",
     "traceback": [
      "\u001b[0;31m---------------------------------------------------------------------------\u001b[0m",
      "\u001b[0;31mNameError\u001b[0m                                 Traceback (most recent call last)",
      "\u001b[0;32m<ipython-input-21-78866a1ed45b>\u001b[0m in \u001b[0;36m<module>\u001b[0;34m\u001b[0m\n\u001b[0;32m----> 1\u001b[0;31m \u001b[0mparams\u001b[0m\u001b[0;34m,\u001b[0m \u001b[0mparams_covariance\u001b[0m \u001b[0;34m=\u001b[0m \u001b[0moptimize\u001b[0m\u001b[0;34m.\u001b[0m\u001b[0mcurve_fit\u001b[0m\u001b[0;34m(\u001b[0m\u001b[0mtest_func\u001b[0m\u001b[0;34m,\u001b[0m \u001b[0mNs\u001b[0m\u001b[0;34m,\u001b[0m \u001b[0mnp\u001b[0m\u001b[0;34m.\u001b[0m\u001b[0msqrt\u001b[0m\u001b[0;34m(\u001b[0m\u001b[0mvar_s\u001b[0m\u001b[0;34m)\u001b[0m\u001b[0;34m,\u001b[0m \u001b[0mp0\u001b[0m\u001b[0;34m=\u001b[0m\u001b[0;34m[\u001b[0m\u001b[0;36m2\u001b[0m\u001b[0;34m]\u001b[0m\u001b[0;34m)\u001b[0m\u001b[0;34m\u001b[0m\u001b[0;34m\u001b[0m\u001b[0m\n\u001b[0m",
      "\u001b[0;31mNameError\u001b[0m: name 'Ns' is not defined"
     ]
    }
   ],
   "source": [
    "params, params_covariance = optimize.curve_fit(test_func, Ns, np.sqrt(var_s), p0=[2])"
   ]
  },
  {
   "cell_type": "code",
   "execution_count": 22,
   "metadata": {},
   "outputs": [
    {
     "ename": "NameError",
     "evalue": "name 'params' is not defined",
     "output_type": "error",
     "traceback": [
      "\u001b[0;31m---------------------------------------------------------------------------\u001b[0m",
      "\u001b[0;31mNameError\u001b[0m                                 Traceback (most recent call last)",
      "\u001b[0;32m<ipython-input-22-ce82d8addd0e>\u001b[0m in \u001b[0;36m<module>\u001b[0;34m\u001b[0m\n\u001b[0;32m----> 1\u001b[0;31m \u001b[0mkappa\u001b[0m \u001b[0;34m=\u001b[0m \u001b[0mparams\u001b[0m\u001b[0;34m[\u001b[0m\u001b[0;36m0\u001b[0m\u001b[0;34m]\u001b[0m\u001b[0;34m\u001b[0m\u001b[0;34m\u001b[0m\u001b[0m\n\u001b[0m\u001b[1;32m      2\u001b[0m \u001b[0mprint\u001b[0m \u001b[0;34m(\u001b[0m\u001b[0;34m'kappa = '\u001b[0m\u001b[0;34m,\u001b[0m \u001b[0mround\u001b[0m\u001b[0;34m(\u001b[0m\u001b[0mkappa\u001b[0m\u001b[0;34m,\u001b[0m\u001b[0;36m4\u001b[0m\u001b[0;34m)\u001b[0m\u001b[0;34m)\u001b[0m\u001b[0;34m\u001b[0m\u001b[0;34m\u001b[0m\u001b[0m\n\u001b[1;32m      3\u001b[0m \u001b[0;34m\u001b[0m\u001b[0m\n\u001b[1;32m      4\u001b[0m \u001b[0merr_kappa\u001b[0m \u001b[0;34m=\u001b[0m \u001b[0mnp\u001b[0m\u001b[0;34m.\u001b[0m\u001b[0msqrt\u001b[0m\u001b[0;34m(\u001b[0m\u001b[0mparams_covariance\u001b[0m\u001b[0;34m[\u001b[0m\u001b[0;36m0\u001b[0m\u001b[0;34m]\u001b[0m\u001b[0;34m[\u001b[0m\u001b[0;36m0\u001b[0m\u001b[0;34m]\u001b[0m\u001b[0;34m)\u001b[0m\u001b[0;34m\u001b[0m\u001b[0;34m\u001b[0m\u001b[0m\n\u001b[1;32m      5\u001b[0m \u001b[0mprint\u001b[0m\u001b[0;34m(\u001b[0m\u001b[0;34m'err_kappa = '\u001b[0m\u001b[0;34m,\u001b[0m \u001b[0mround\u001b[0m\u001b[0;34m(\u001b[0m\u001b[0merr_kappa\u001b[0m\u001b[0;34m,\u001b[0m\u001b[0;36m4\u001b[0m\u001b[0;34m)\u001b[0m\u001b[0;34m)\u001b[0m\u001b[0;34m\u001b[0m\u001b[0;34m\u001b[0m\u001b[0m\n",
      "\u001b[0;31mNameError\u001b[0m: name 'params' is not defined"
     ]
    }
   ],
   "source": [
    "kappa = params[0]\n",
    "print ('kappa = ', round(kappa,4))\n",
    "\n",
    "err_kappa = np.sqrt(params_covariance[0][0])\n",
    "print('err_kappa = ', round(err_kappa,4))"
   ]
  },
  {
   "cell_type": "code",
   "execution_count": null,
   "metadata": {},
   "outputs": [],
   "source": [
    "params[0]"
   ]
  },
  {
   "cell_type": "code",
   "execution_count": null,
   "metadata": {},
   "outputs": [],
   "source": [
    "ran = np.arange(100, 2500, 1)\n",
    "\n",
    "plt.plot(Ns, np.sqrt(var_s), 'go', color='green')\n",
    "plt.plot(ran, test_func(ran, params), color='red')\n",
    "plt.xlabel('N', fontsize=16)\n",
    "plt.ylabel('$\\sigma_I$', fontsize=16)\n",
    "plt.show()"
   ]
  },
  {
   "cell_type": "markdown",
   "metadata": {},
   "source": [
    "# Stratified sampling"
   ]
  },
  {
   "cell_type": "markdown",
   "metadata": {},
   "source": [
    "In this way, I choose to divide the domain in two intervals: [0, 0.5] and [0.5, 1].\n",
    "Then, I compute the integral over the two domains, each one with his variance. Finally, the value of the integral on the complete domain will be the sum of the two integrals, and the variance will be the sum of variances:<br />\n",
    "\n",
    "$$I=\\frac{I_a}{2}+\\frac{I_b}{2}$$ \n",
    "\n",
    "$$\\sigma^2=\\frac{\\sigma^2_a}{4}+\\frac{\\sigma^2_b}{4}$$\n",
    "\n",
    "So, the final error on the integral will be:\n",
    "\n",
    "$$\\sigma=\\frac{1}{2}\\sqrt{\\sigma^2_a+\\sigma^2_b}$$\n",
    "\n",
    "Notice that each $\\sigma$ will still go as $\\frac{1}{\\sqrt{N}}$, so will do the total one, but now the coefficient will be smaller\n",
    "\n",
    "per calcolare la varianza, calcolo la media dei valori ottenuti da 1000 calcoli di integrali su 1000 diversi sample da 128 numeri"
   ]
  },
  {
   "cell_type": "code",
   "execution_count": null,
   "metadata": {},
   "outputs": [],
   "source": [
    "Integral = np.array([])\n",
    "Vars = np.array([])\n",
    "\n",
    "for j in range (1000):\n",
    "    num1 = np.array([])\n",
    "    num2 = np.array([])\n",
    "    va = 0\n",
    "    vb = 0\n",
    "    for i in range (64):\n",
    "        x1 = random.uniform(0,1/2.)\n",
    "        x2 = random.uniform(1/2.,1)\n",
    "        num1 = np.append(num1, f(x1))\n",
    "        num2 = np.append(num2, f(x2))\n",
    "    ma = num1.mean()\n",
    "    mb = num2.mean()\n",
    "    Integral = np.append(Integral, 0.5*(ma+mb))\n",
    "    for i in range (64):\n",
    "        va = va + (num1[i] - ma)**2\n",
    "        vb = vb + (num2[i] - mb)**2\n",
    "    va = va / ((64-1)*64) \n",
    "    vb = vb / ((64-1)*64)\n",
    "    \n",
    "    Vars = np.append(Vars, 0.25*(va + vb))"
   ]
  },
  {
   "cell_type": "code",
   "execution_count": null,
   "metadata": {},
   "outputs": [],
   "source": [
    "plt.hist(Integral, 25, color='blue')\n",
    "plt.xlabel('$Q_{N}^{strat}$', fontsize=16)\n",
    "plt.ylabel('Counts', fontsize=16)\n",
    "plt.show()"
   ]
  },
  {
   "cell_type": "code",
   "execution_count": null,
   "metadata": {},
   "outputs": [],
   "source": [
    "IntegralSS = Integral"
   ]
  },
  {
   "cell_type": "code",
   "execution_count": null,
   "metadata": {},
   "outputs": [],
   "source": [
    "plt.hist(Vars, 25, color='blue')\n",
    "plt.xlabel('$\\hat{\\sigma}^{2\\,strat}$', fontsize=16)\n",
    "plt.ylabel('Counts', fontsize=16)\n",
    "plt.show()"
   ]
  },
  {
   "cell_type": "code",
   "execution_count": null,
   "metadata": {},
   "outputs": [],
   "source": [
    "m3 = np.mean(Integral)\n",
    "v3 = np.mean(Vars)\n",
    "s3 = np.sqrt(v3)/np.sqrt(1000)\n",
    "\n",
    "print(f'For Stratified Sampling MC we have:\\n'\n",
    "     f'\\tmean\\t= {round(m3,4)}\\n\\tstd dev\\t= {round(s3,4)}\\n')"
   ]
  },
  {
   "cell_type": "code",
   "execution_count": null,
   "metadata": {},
   "outputs": [],
   "source": [
    "# Valuto ora il valore approssimato dell'integrale per diverse dimensioni dei sample\n",
    "# che vanno da 100 a 2500 con step di 200\n",
    "\n",
    "means3 = np.array([])\n",
    "varns3 = np.array([])\n",
    "\n",
    "Ns = np.arange(50, 1250, 100)\n",
    "for N in Ns:\n",
    "    Integral = np.array([])\n",
    "    Vars = np.array([])\n",
    "\n",
    "    for j in range (1000):\n",
    "        num1 = np.array([])\n",
    "        num2 = np.array([])\n",
    "        v1 = 0\n",
    "        v2 = 0\n",
    "        for i in range (N):\n",
    "            x1 = random.uniform(0,1/2.)\n",
    "            x2 = random.uniform(1/2.,1)\n",
    "            # store the evaluated integrands in the lists\n",
    "            num1 = np.append(num1, f(x1))\n",
    "            num2 = np.append(num2, f(x2))\n",
    "        m1 = num1.mean()\n",
    "        m2 = num2.mean()\n",
    "        Integral = np.append(Integral, 0.5*(m1+m2))\n",
    "        for i in range (N):\n",
    "            v1 = v1 + (num1[i] - m1)**2\n",
    "            v2 = v2 + (num2[i] - m2)**2\n",
    "        v1 = v1 / ((N-1)*N) #variances for the two computations\n",
    "        v2 = v2 / ((N-1)*N)\n",
    "    \n",
    "        Vars = np.append(Vars, 0.25*(v1 + v2))\n",
    "    \n",
    "    means3 = np.append(means3, Integral.mean())\n",
    "    varns3 = np.append(varns3, Vars.mean())"
   ]
  },
  {
   "cell_type": "code",
   "execution_count": null,
   "metadata": {},
   "outputs": [],
   "source": [
    "params, params_covariance = optimize.curve_fit(test_func, Ns*2, np.sqrt(varns3), p0=[2])\n",
    "\n",
    "ran = np.arange(100, 2500, 1)\n",
    "\n",
    "plt.plot(Ns*2, np.sqrt(varns3), 'go', color='green')\n",
    "plt.plot(ran, test_func(ran, params), color='red')\n",
    "plt.ylabel('$\\sigma_I$', fontsize=16)\n",
    "plt.xlabel('N', fontsize=16)\n",
    "plt.show()\n",
    "\n",
    "print(params)\n",
    "print(np.sqrt(params_covariance))"
   ]
  },
  {
   "cell_type": "markdown",
   "metadata": {},
   "source": [
    "# Importance sampling"
   ]
  },
  {
   "cell_type": "markdown",
   "metadata": {},
   "source": [
    "This method is the most powerful, among those shown here, in reducing the variance.\n",
    "The concept is simple: instead of extracting numbers from a uniform distribution, we extract them from a distribution that is similar to the function which integral we want to compute. \n",
    "The mathematical concept is a simple change of variable:\n",
    "$$I=\\int_a^bf(x)dx=\\int_a^b\\frac{f(x)}{w(x)}w(x)dx$$\n",
    "Where $w(x)$ is the sampling distribution.\n",
    "Hence, if $w(x)$ is normalized in the interval [a, b], we can just extract N numbers $x_i$ under this distribution and evaluate the integral using the following estimator:\n",
    "$$I_N=\\frac{1}{N}\\sum_{i=0}^N\\frac{f(x_i)}{w(x_i)}$$"
   ]
  },
  {
   "cell_type": "markdown",
   "metadata": {},
   "source": [
    "## How to extract numbers under a generical distribution?\n",
    "\n",
    "We will use the **inverse function method**. \n",
    "If we want to extract numbers following the distrution $w(x)$, we need first to compute the cumulative function of $w$:\n",
    "$$W(x)=\\int_0^xw(t)dt$$\n",
    "and to invert it. Now, if we extract uniform random numbers $x_i$ in the interval [a, b], taking $W^{-1}(x_i)$ we find numbers distributed as $w(x)$"
   ]
  },
  {
   "cell_type": "code",
   "execution_count": 6,
   "metadata": {},
   "outputs": [],
   "source": [
    "# definisco il generatore di due funzioni di sampling con il metodo della funzione inversa\n",
    "def s1 ():\n",
    "    'genera con distribuzione 1/e+2(e-1)/e*x'\n",
    "    x=random.uniform(0, 1)\n",
    "    # pdf(x) = 1/e+2(e-1)/e*x -> \n",
    "    # cum.function PDF(x) = int0_x pdf(x)dx = x/e + (1-1/e)x^2 ->\n",
    "    # inverse (1 - sqrt(4xe^2 - 4ex + 1))/(2 - 2e)\n",
    "    return (1 - np.sqrt(4*x*np.e**2 - 4*np.e*x + 1)/(2 - 2*np.e))\n",
    "\n",
    "def w1 (x):\n",
    "    return ((1+2*(np.e-1)*x)/np.e)\n",
    "\n",
    "def w2 (x):\n",
    "    return ((2.5+2.5*(np.e-1)*x**1.5)/(np.e+1.5))\n",
    "\n",
    "def s2 ():\n",
    "    'genera con distribuzione (1+3(e-1)*x^2)/e'\n",
    "    #troppo difficile invertire: uso un altro metodo\n",
    "    while(0==0):\n",
    "        x=random.uniform(0, 1)\n",
    "        y=random.uniform(0, np.e)\n",
    "        if (y<w2(x)):    return x\n",
    "        "
   ]
  },
  {
   "cell_type": "code",
   "execution_count": 7,
   "metadata": {},
   "outputs": [],
   "source": [
    "# costruisco un loop con queste istruzioni\n",
    "\n",
    "Integral = np.array([])\n",
    "Vars = np.array([])\n",
    "\n",
    "for j in range (1000):\n",
    "    num = np.array([])\n",
    "    v = 0\n",
    "    i = 0\n",
    "    for i in range (128):\n",
    "        x = s1()\n",
    "        # store the number in the list\n",
    "        num = np.append(num, f(x)/w1(x))\n",
    "    m = num.mean()\n",
    "    Integral = np.append(Integral, m)\n",
    "    for i in range (128):\n",
    "        v = v + (num[i] - m)**2\n",
    "    v = v/((128-1)*128)\n",
    "    Vars = np.append(Vars, v)"
   ]
  },
  {
   "cell_type": "code",
   "execution_count": 8,
   "metadata": {},
   "outputs": [
    {
     "data": {
      "image/png": "[encoded data removed]",
      "text/plain": [
       "<Figure size 432x288 with 1 Axes>"
      ]
     },
     "metadata": {
      "needs_background": "light"
     },
     "output_type": "display_data"
    }
   ],
   "source": [
    "# Plot of the gaussian behaviour of the single computations over each sample\n",
    "# note that this is narrower than the previous ones\n",
    "plt.hist(Integral, 25, color='blue')\n",
    "plt.xlabel('$Q_{N}^{imp_1}$', fontsize=16)\n",
    "plt.ylabel('Counts', fontsize=16)\n",
    "plt.show()"
   ]
  },
  {
   "cell_type": "code",
   "execution_count": 9,
   "metadata": {},
   "outputs": [],
   "source": [
    "IntegralIS1 = Integral"
   ]
  },
  {
   "cell_type": "code",
   "execution_count": 10,
   "metadata": {},
   "outputs": [
    {
     "data": {
      "image/png": "[encoded data removed]",
      "text/plain": [
       "<Figure size 432x288 with 1 Axes>"
      ]
     },
     "metadata": {
      "needs_background": "light"
     },
     "output_type": "display_data"
    }
   ],
   "source": [
    "\n",
    "plt.hist(Vars, 25, color='blue')\n",
    "plt.xlabel('$\\hat{\\sigma}^{2\\,imp_1}$', fontsize=16)\n",
    "plt.ylabel('Counts', fontsize=16)\n",
    "plt.show()"
   ]
  },
  {
   "cell_type": "code",
   "execution_count": 11,
   "metadata": {},
   "outputs": [],
   "source": [
    "m4 = np.mean(Integral)\n",
    "v4 = np.mean(Vars)"
   ]
  },
  {
   "cell_type": "code",
   "execution_count": 12,
   "metadata": {},
   "outputs": [
    {
     "name": "stdout",
     "output_type": "stream",
     "text": [
      "For Importance Sampling MC we have:\n",
      "\tmean\t= 2.4524337188162573\n",
      "\tstd dev\t= 0.0009529208907769393\n",
      "\n"
     ]
    }
   ],
   "source": [
    "print(f'For Importance Sampling MC we have:\\n'\n",
    "     f'\\tmean\\t= {m4}\\n\\tstd dev\\t= {np.sqrt(v4)/np.sqrt(1000)}\\n')"
   ]
  },
  {
   "cell_type": "code",
   "execution_count": 63,
   "metadata": {},
   "outputs": [],
   "source": [
    "# costruisco un loop con queste istruzioni\n",
    "\n",
    "Integral = np.array([])\n",
    "Vars = np.array([])\n",
    "\n",
    "for j in range (1000):\n",
    "    num = np.array([])\n",
    "    v = 0\n",
    "    i = 0\n",
    "    for i in range (128):\n",
    "        x = s2()\n",
    "        # store the number in the list\n",
    "        num = np.append(num, f(x)/w2(x))\n",
    "    m = num.mean()\n",
    "    Integral = np.append(Integral, m)\n",
    "    for i in range (128):\n",
    "        v = v + (num[i] - m)**2\n",
    "    v = v/((128-1)*128)\n",
    "    Vars = np.append(Vars, v)\n",
    "    "
   ]
  },
  {
   "cell_type": "code",
   "execution_count": 64,
   "metadata": {},
   "outputs": [
    {
     "data": {
      "image/png": "[encoded data removed]",
      "text/plain": [
       "<Figure size 432x288 with 1 Axes>"
      ]
     },
     "metadata": {
      "needs_background": "light"
     },
     "output_type": "display_data"
    }
   ],
   "source": [
    "# Plot of the gaussian behaviour of the single computations over each sample\n",
    "# note that this is narrower than the previous ones\n",
    "\n",
    "# Plot of the gaussian behaviour of the single computations over each sample\n",
    "# note that this is narrower than the previous ones\n",
    "plt.hist(Integral, 25, color='blue')\n",
    "plt.xlabel('$Q_{N}^{imp_2}$', fontsize=16)\n",
    "plt.ylabel('Counts', fontsize=16)\n",
    "plt.show()"
   ]
  },
  {
   "cell_type": "code",
   "execution_count": 65,
   "metadata": {},
   "outputs": [],
   "source": [
    "IntegralIS2 = Integral"
   ]
  },
  {
   "cell_type": "code",
   "execution_count": 66,
   "metadata": {},
   "outputs": [
    {
     "data": {
      "image/png": "[encoded data removed]",
      "text/plain": [
       "<Figure size 432x288 with 1 Axes>"
      ]
     },
     "metadata": {
      "needs_background": "light"
     },
     "output_type": "display_data"
    }
   ],
   "source": [
    "plt.hist(Vars, 25, color='blue')\n",
    "plt.xlabel('$\\hat{\\sigma}^{2\\,imp_2}$', fontsize=16)\n",
    "plt.ylabel('Counts', fontsize=16)\n",
    "plt.show()"
   ]
  },
  {
   "cell_type": "code",
   "execution_count": 67,
   "metadata": {},
   "outputs": [],
   "source": [
    "m5 = np.mean(Integral)\n",
    "v5 = np.mean(Vars)"
   ]
  },
  {
   "cell_type": "code",
   "execution_count": 68,
   "metadata": {},
   "outputs": [
    {
     "name": "stdout",
     "output_type": "stream",
     "text": [
      "For Importance Sampling MC we have:\n",
      "\tmean\t= 1.718436982038282\n",
      "\tvar\t= 0.0001032954777550306\n",
      "\n"
     ]
    }
   ],
   "source": [
    "print(f'For Importance Sampling MC we have:\\n'\n",
    "     f'\\tmean\\t= {m5}\\n\\tvar\\t= {np.sqrt(v5)/np.sqrt(1000)}\\n')"
   ]
  },
  {
   "cell_type": "code",
   "execution_count": 69,
   "metadata": {},
   "outputs": [
    {
     "name": "stdout",
     "output_type": "stream",
     "text": [
      "1\n",
      "2\n"
     ]
    },
    {
     "ename": "KeyboardInterrupt",
     "evalue": "",
     "output_type": "error",
     "traceback": [
      "\u001b[0;31m---------------------------------------------------------------------------\u001b[0m",
      "\u001b[0;31mKeyboardInterrupt\u001b[0m                         Traceback (most recent call last)",
      "\u001b[0;32m<ipython-input-69-e97b0c3de733>\u001b[0m in \u001b[0;36m<module>\u001b[0;34m\u001b[0m\n\u001b[1;32m     17\u001b[0m             \u001b[0mx\u001b[0m \u001b[0;34m=\u001b[0m \u001b[0ms1\u001b[0m\u001b[0;34m(\u001b[0m\u001b[0;34m)\u001b[0m\u001b[0;34m\u001b[0m\u001b[0;34m\u001b[0m\u001b[0m\n\u001b[1;32m     18\u001b[0m             \u001b[0;31m# store the number in the list\u001b[0m\u001b[0;34m\u001b[0m\u001b[0;34m\u001b[0m\u001b[0;34m\u001b[0m\u001b[0m\n\u001b[0;32m---> 19\u001b[0;31m             \u001b[0mnum\u001b[0m \u001b[0;34m=\u001b[0m \u001b[0mnp\u001b[0m\u001b[0;34m.\u001b[0m\u001b[0mappend\u001b[0m\u001b[0;34m(\u001b[0m\u001b[0mnum\u001b[0m\u001b[0;34m,\u001b[0m \u001b[0mf\u001b[0m\u001b[0;34m(\u001b[0m\u001b[0mx\u001b[0m\u001b[0;34m)\u001b[0m\u001b[0;34m/\u001b[0m\u001b[0mw1\u001b[0m\u001b[0;34m(\u001b[0m\u001b[0mx\u001b[0m\u001b[0;34m)\u001b[0m\u001b[0;34m)\u001b[0m\u001b[0;34m\u001b[0m\u001b[0;34m\u001b[0m\u001b[0m\n\u001b[0m\u001b[1;32m     20\u001b[0m         \u001b[0mm\u001b[0m \u001b[0;34m=\u001b[0m \u001b[0mnum\u001b[0m\u001b[0;34m.\u001b[0m\u001b[0mmean\u001b[0m\u001b[0;34m(\u001b[0m\u001b[0;34m)\u001b[0m\u001b[0;34m\u001b[0m\u001b[0;34m\u001b[0m\u001b[0m\n\u001b[1;32m     21\u001b[0m         \u001b[0mIntegral\u001b[0m \u001b[0;34m=\u001b[0m \u001b[0mnp\u001b[0m\u001b[0;34m.\u001b[0m\u001b[0mappend\u001b[0m\u001b[0;34m(\u001b[0m\u001b[0mIntegral\u001b[0m\u001b[0;34m,\u001b[0m \u001b[0mm\u001b[0m\u001b[0;34m)\u001b[0m\u001b[0;34m\u001b[0m\u001b[0;34m\u001b[0m\u001b[0m\n",
      "\u001b[0;32m<__array_function__ internals>\u001b[0m in \u001b[0;36mappend\u001b[0;34m(*args, **kwargs)\u001b[0m\n",
      "\u001b[0;32m/usr/local/lib/python3.6/dist-packages/numpy/lib/function_base.py\u001b[0m in \u001b[0;36mappend\u001b[0;34m(arr, values, axis)\u001b[0m\n\u001b[1;32m   4698\u001b[0m         \u001b[0mvalues\u001b[0m \u001b[0;34m=\u001b[0m \u001b[0mravel\u001b[0m\u001b[0;34m(\u001b[0m\u001b[0mvalues\u001b[0m\u001b[0;34m)\u001b[0m\u001b[0;34m\u001b[0m\u001b[0;34m\u001b[0m\u001b[0m\n\u001b[1;32m   4699\u001b[0m         \u001b[0maxis\u001b[0m \u001b[0;34m=\u001b[0m \u001b[0marr\u001b[0m\u001b[0;34m.\u001b[0m\u001b[0mndim\u001b[0m\u001b[0;34m-\u001b[0m\u001b[0;36m1\u001b[0m\u001b[0;34m\u001b[0m\u001b[0;34m\u001b[0m\u001b[0m\n\u001b[0;32m-> 4700\u001b[0;31m     \u001b[0;32mreturn\u001b[0m \u001b[0mconcatenate\u001b[0m\u001b[0;34m(\u001b[0m\u001b[0;34m(\u001b[0m\u001b[0marr\u001b[0m\u001b[0;34m,\u001b[0m \u001b[0mvalues\u001b[0m\u001b[0;34m)\u001b[0m\u001b[0;34m,\u001b[0m \u001b[0maxis\u001b[0m\u001b[0;34m=\u001b[0m\u001b[0maxis\u001b[0m\u001b[0;34m)\u001b[0m\u001b[0;34m\u001b[0m\u001b[0;34m\u001b[0m\u001b[0m\n\u001b[0m\u001b[1;32m   4701\u001b[0m \u001b[0;34m\u001b[0m\u001b[0m\n\u001b[1;32m   4702\u001b[0m \u001b[0;34m\u001b[0m\u001b[0m\n",
      "\u001b[0;32m<__array_function__ internals>\u001b[0m in \u001b[0;36mconcatenate\u001b[0;34m(*args, **kwargs)\u001b[0m\n",
      "\u001b[0;31mKeyboardInterrupt\u001b[0m: "
     ]
    }
   ],
   "source": [
    "# Valuto ora il valore approssimato dell'integrale per diverse dimensioni dei sample\n",
    "# che vanno da 100 a 2500 con step di 200\n",
    "\n",
    "means4 = np.array([])\n",
    "varns4 = np.array([])\n",
    "\n",
    "Ns = np.arange(100, 2500, 200)\n",
    "for N in Ns:\n",
    "    Integral = np.array([])\n",
    "    Vars = np.array([])\n",
    "\n",
    "    for j in range (1000):\n",
    "        num = np.array([])\n",
    "        v = 0\n",
    "        i = 0\n",
    "        for i in range (N):\n",
    "            x = s1()\n",
    "            # store the number in the list\n",
    "            num = np.append(num, f(x)/w1(x))\n",
    "        m = num.mean()\n",
    "        Integral = np.append(Integral, m)\n",
    "        for i in range (N):\n",
    "            v = v + (num[i] - m)**2\n",
    "        v = v/((N-1)*N)\n",
    "        Vars = np.append(Vars, v)\n",
    "    means4 = np.append(means4, Integral.mean())\n",
    "    varns4 = np.append(varns4, Vars.mean())\n",
    "    print(len(means4))\n"
   ]
  },
  {
   "cell_type": "code",
   "execution_count": null,
   "metadata": {},
   "outputs": [],
   "source": [
    "params, params_covariance = optimize.curve_fit(test_func, Ns, np.sqrt(varns4), p0=[2])\n",
    "ran = np.arange(100, 2500, 1)\n",
    "\n",
    "plt.plot(Ns, np.sqrt(varns4), 'go', color = 'green')\n",
    "plt.plot(ran, test_func(ran, params), color='red')\n",
    "plt.ylabel('$\\sigma_I^{imp_1}$', fontsize=16)\n",
    "plt.xlabel('N', fontsize=16)\n",
    "plt.show()\n",
    "\n",
    "print(params)\n",
    "print(np.sqrt(params_covariance))"
   ]
  },
  {
   "cell_type": "code",
   "execution_count": null,
   "metadata": {},
   "outputs": [],
   "source": [
    "# Valuto ora il valore approssimato dell'integrale per diverse dimensioni dei sample\n",
    "# che vanno da 100 a 2500 con step di 200\n",
    "\n",
    "means5 = np.array([])\n",
    "varns5 = np.array([])\n",
    "\n",
    "Ns = np.arange(100, 2500, 200)\n",
    "for N in Ns:\n",
    "    Integral = np.array([])\n",
    "    Vars = np.array([])\n",
    "\n",
    "    for j in range (1000):\n",
    "        num = np.array([])\n",
    "        v = 0\n",
    "        i = 0\n",
    "        for i in range (N):\n",
    "            x = s2()\n",
    "            # store the number in the list\n",
    "            num = np.append(num, f(x)/w2(x))\n",
    "        m = num.mean()\n",
    "        Integral = np.append(Integral, m)\n",
    "        for i in range (N):\n",
    "            v = v + (num[i] - m)**2\n",
    "        v = v/((N-1)*N)\n",
    "        Vars = np.append(Vars, v)\n",
    "    means5 = np.append(means5, Integral.mean())\n",
    "    varns5 = np.append(varns5, Integral.var())\n",
    "    print(len(means5))\n"
   ]
  },
  {
   "cell_type": "code",
   "execution_count": null,
   "metadata": {},
   "outputs": [],
   "source": [
    "params, params_covariance = optimize.curve_fit(test_func, Ns, np.sqrt(varns5),\n",
    "                                               p0=[2])\n",
    "ran = np.arange(100, 2500, 1)\n",
    "\n",
    "plt.plot(Ns, np.sqrt(varns5), 'go', color='green')\n",
    "plt.plot(ran, test_func(ran, params), color='red')\n",
    "plt.ylabel('$\\sigma_I^{imp_2}$', fontsize=16)\n",
    "plt.xlabel('N', fontsize=16)\n",
    "plt.show()\n",
    "\n",
    "\n",
    "print(params)\n",
    "print(np.sqrt(params_covariance))"
   ]
  },
  {
   "cell_type": "markdown",
   "metadata": {},
   "source": [
    "# Error comparison"
   ]
  },
  {
   "cell_type": "markdown",
   "metadata": {},
   "source": [
    "Here I plot the behaviour of the variances and the standard deviations for the various methods of integration.\n",
    "We can see that they thend to converge to zero faster as we go towards the importance sampling method"
   ]
  },
  {
   "cell_type": "code",
   "execution_count": null,
   "metadata": {},
   "outputs": [],
   "source": [
    "Ns = np.arange(100, 2500, 200)"
   ]
  },
  {
   "cell_type": "code",
   "execution_count": null,
   "metadata": {},
   "outputs": [],
   "source": [
    "plt.plot(Ns, np.sqrt(var_s), 'bo', label='Crude MC')\n",
    "plt.plot(Ns, np.sqrt(varns3), 'go', label='Stratified Sampling')\n",
    "plt.plot(Ns, np.sqrt(varns4), 'ro', label='Importance Sampling $w_1$')\n",
    "plt.plot(Ns, np.sqrt(varns5), 'yo', label='Importance Sampling $w_2$')\n",
    "plt.xlabel('$N$', fontsize=16)\n",
    "plt.ylabel('$\\sigma_{I}$', fontsize=16)\n",
    "plt.legend()\n",
    "plt.show()"
   ]
  },
  {
   "cell_type": "code",
   "execution_count": 41,
   "metadata": {},
   "outputs": [
    {
     "data": {
      "image/png": "[encoded data removed]",
      "text/plain": [
       "<Figure size 432x288 with 1 Axes>"
      ]
     },
     "metadata": {
      "needs_background": "light"
     },
     "output_type": "display_data"
    }
   ],
   "source": [
    "xx = np.arange(0, 1, 0.01)\n",
    "\n",
    "plt.plot(xx, f(xx), label='$y=e^x$')\n",
    "plt.plot(xx, w1(xx)+0.5, label='$y=w_1(x)$')\n",
    "plt.plot(xx, w2(xx)+0.5, label='$y=w_2(x)$')\n",
    "plt.legend()\n",
    "plt.xlabel('$x$')\n",
    "plt.ylabel('$y$')\n",
    "plt.show()"
   ]
  },
  {
   "cell_type": "code",
   "execution_count": null,
   "metadata": {},
   "outputs": [],
   "source": [
    "x = list(['Crude MC', 'Stratified\\nsampling', 'Importance\\nsampling\\n$w_1$', 'Importance\\nsampling\\n$w_2$'])\n",
    "y = list([1.7190, 1.7179, 1.7181, 1.7182])\n",
    "err = list ( [0.0014, np.sqrt(v3)/np.sqrt(1000), np.sqrt(v4)/np.sqrt(1000), np.sqrt(v5)/np.sqrt(1000)])\n",
    "plt.errorbar(x, y, yerr=err, fmt='s', color = 'blue')\n",
    "plt.plot((0,1,2,3),(1.7183, 1.7183, 1.7183, 1.7183), color='red', linestyle='--')\n",
    "plt.ylabel('$I$', fontsize=16)\n",
    "plt.show()"
   ]
  },
  {
   "cell_type": "code",
   "execution_count": null,
   "metadata": {},
   "outputs": [],
   "source": [
    "x = list(['Crude MC', 'Stratified\\nsampling', 'Importance\\nsampling\\n$w_1$', 'Importance\\nsampling\\n$w_2$'])\n",
    "y = list([0.485, 0.254, 0.198, 0.037])\n",
    "err = list ([0.3, 0.12, 0.02, 0.02])\n",
    "plt.errorbar(x, y, yerr=err, fmt='s', color = 'blue')\n",
    "plt.ylabel('$\\kappa$', fontsize=16)\n",
    "plt.show()"
   ]
  },
  {
   "cell_type": "code",
   "execution_count": null,
   "metadata": {},
   "outputs": [],
   "source": [
    "plt.figure(figsize=(15, 15))\n",
    "plt.hist(IntegralMC, 25, color='blue', histtype='step', label='Crude MC', linewidth=1.5)\n",
    "plt.hist(IntegralSS, 25, color='green', histtype='step', label='Stratified Sampling', linewidth=1.5)\n",
    "plt.hist(IntegralIS1, 25, color='red', histtype='step', label='Importance Sampling $w_1$', linewidth=1.5)\n",
    "plt.hist(IntegralIS2, 25, color='orange', histtype='step', label='Importance Sampling $w_2$', linewidth=1.5)\n",
    "plt.xlabel('$Q_{N}$', fontsize=16)\n",
    "plt.ylabel('Counts', fontsize=16)\n",
    "\n",
    "plt.legend(fontsize=16)\n",
    "plt.show()"
   ]
  },
  {
   "cell_type": "markdown",
   "metadata": {},
   "source": [
    "# alpha"
   ]
  },
  {
   "cell_type": "code",
   "execution_count": null,
   "metadata": {},
   "outputs": [],
   "source": [
    "import numpy as np\n",
    "import math as mt\n",
    "import random\n",
    "from matplotlib import pyplot as plt\n",
    "from scipy import optimize\n",
    "from IPython.display import clear_output\n",
    "import matplotlib.mlab as mlab"
   ]
  },
  {
   "cell_type": "code",
   "execution_count": null,
   "metadata": {},
   "outputs": [],
   "source": [
    "x = list(['ML', 'LS'])\n",
    "\n",
    "alpha = list([0.651,0.623])\n",
    "alpha_err = list([0.003, 0.003])\n",
    "plt.plot((0,1),(0.65, 0.65), color='black', linestyle='--')\n",
    "plt.errorbar(x, alpha, yerr=alpha_err, fmt='s', color = 'red')\n",
    "plt.ylabel('α', fontsize=16)\n",
    "plt.xticks(fontsize=16)\n",
    "plt.show()"
   ]
  },
  {
   "cell_type": "code",
   "execution_count": null,
   "metadata": {},
   "outputs": [],
   "source": [
    "x = list(['ML', 'LS'])\n",
    "\n",
    "beta = list([0.059,0.057])\n",
    "beta_err = list([0.003, 0.003])\n",
    "plt.errorbar(x, beta, yerr=beta_err, fmt='s', color = 'green')\n",
    "plt.plot((0,1),(0.06, 0.06), color='black', linestyle='--')\n",
    "plt.ylabel('β', fontsize=16)\n",
    "plt.xticks(fontsize=16)\n",
    "plt.show()"
   ]
  },
  {
   "cell_type": "code",
   "execution_count": null,
   "metadata": {},
   "outputs": [],
   "source": [
    "x = list(['ML', 'LS'])\n",
    "\n",
    "gamma = list([-0.178,-0.162])\n",
    "gamma_err = list([0.002, 0.002])\n",
    "plt.errorbar(x, gamma, yerr=gamma_err, fmt='s', color = 'blue')\n",
    "plt.plot((0,1),(-0.18, -0.18), color='black', linestyle='--')\n",
    "plt.ylabel('$\\gamma$', fontsize=16)\n",
    "plt.xticks(fontsize=16)\n",
    "plt.show()"
   ]
  },
  {
   "cell_type": "code",
   "execution_count": null,
   "metadata": {},
   "outputs": [],
   "source": []
  }
 ],
 "metadata": {
  "kernelspec": {
   "display_name": "Python 3",
   "language": "python",
   "name": "python3"
  },
  "language_info": {
   "codemirror_mode": {
    "name": "ipython",
    "version": 3
   },
   "file_extension": ".py",
   "mimetype": "text/x-python",
   "name": "python",
   "nbconvert_exporter": "python",
   "pygments_lexer": "ipython3",
   "version": "3.6.9"
  }
 },
 "nbformat": 4,
 "nbformat_minor": 2
}
