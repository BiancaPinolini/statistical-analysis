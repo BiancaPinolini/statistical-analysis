{
 "cells": [
  {
   "cell_type": "code",
   "execution_count": 1,
   "metadata": {},
   "outputs": [],
   "source": [
    "import numpy as np\n",
    "import math as mt\n",
    "import random\n",
    "from matplotlib import pyplot as plt\n",
    "from scipy import optimize\n",
    "from IPython.display import clear_output\n",
    "import matplotlib.mlab as mlab"
   ]
  },
  {
   "cell_type": "code",
   "execution_count": null,
   "metadata": {},
   "outputs": [],
   "source": [
    "def f(x):\n",
    "    return mt.e**x"
   ]
  },
  {
   "cell_type": "markdown",
   "metadata": {},
   "source": [
    "# hit-miss"
   ]
  },
  {
   "cell_type": "markdown",
   "metadata": {},
   "source": [
    "This method consists in considering the integral as a 2D surface. We extracting points on a 2D rectangular area as pairs of numbers from uniform distributions in the intervals [a, b] and [min, max], where:\n",
    "* a and b are extremes of integration \n",
    "* min and max are the minimum and the maximum of the integrand function in the domain of integration \n",
    "\n",
    "Then we have to counters: **hit** and **N**. The former counts the number of points in the area of integration, the latter counts the total number of extracted points.\n",
    "We can finally compute the integral using as extimator: <br />\n",
    "\n",
    "$$ I_N=V\\frac{hit}{N} $$"
   ]
  },
  {
   "cell_type": "code",
   "execution_count": 2,
   "metadata": {},
   "outputs": [],
   "source": [
    "a=1\n",
    "ymax=f(a)\n",
    "V=a*ymax"
   ]
  },
  {
   "cell_type": "code",
   "execution_count": 3,
   "metadata": {},
   "outputs": [],
   "source": [
    "hit_c = 0\n",
    "N = 0 \n",
    "hitx = np.array([])\n",
    "hity = np.array([])"
   ]
  },
  {
   "cell_type": "code",
   "execution_count": 4,
   "metadata": {},
   "outputs": [],
   "source": [
    "for i in range (1000):\n",
    "    x = random.uniform(0, a)\n",
    "    y = random.uniform(0, ymax)\n",
    "    N += 1\n",
    "    if (y<f(x)): \n",
    "        hit_c += 1\n",
    "        hitx = np.append(hitx, x)\n",
    "        hity = np.append(hity, y)"
   ]
  },
  {
   "cell_type": "code",
   "execution_count": 5,
   "metadata": {},
   "outputs": [
    {
     "data": {
      "image/png": "[encoded data removed]",
      "text/plain": [
       "<Figure size 432x288 with 1 Axes>"
      ]
     },
     "metadata": {
      "needs_background": "light"
     },
     "output_type": "display_data"
    }
   ],
   "source": [
    "# Plot to show the \"hit\" points\n",
    "plt.plot(hitx, hity, '.')\n",
    "plt.show()"
   ]
  },
  {
   "cell_type": "code",
   "execution_count": 6,
   "metadata": {},
   "outputs": [
    {
     "name": "stdout",
     "output_type": "stream",
     "text": [
      "hit\t= 618\n",
      "N\t= 1000\n"
     ]
    }
   ],
   "source": [
    "print(f'hit\\t= {hit_c}\\nN\\t= {N}')"
   ]
  },
  {
   "cell_type": "code",
   "execution_count": 7,
   "metadata": {},
   "outputs": [
    {
     "data": {
      "text/plain": [
       "1.6798981699876898"
      ]
     },
     "execution_count": 7,
     "metadata": {},
     "output_type": "execute_result"
    }
   ],
   "source": [
    "I = V*hit_c/N\n",
    "I"
   ]
  },
  {
   "cell_type": "code",
   "execution_count": 8,
   "metadata": {},
   "outputs": [],
   "source": [
    "# per calcolare la varianza, calcolo la media dei valori ottenuti da 1000 calcoli di integrali\n",
    "# su 1000 diversi sample da 128 numeri\n",
    "\n",
    "Integral = np.array([])\n",
    "\n",
    "for j in range (1000):\n",
    "    hit_c = 0\n",
    "    N = 0\n",
    "    hitx = np.array([])\n",
    "    hity = np.array([])\n",
    "    for i in range (128):\n",
    "        x = random.uniform(0, a)\n",
    "        y = random.uniform(0,ymax)\n",
    "        N += 1\n",
    "        if (y<f(x)): \n",
    "            hit_c += 1\n",
    "            hitx = np.append(hitx, x)\n",
    "            hity = np.append(hity, y)\n",
    "    Integral = np.append(Integral, V*hit_c/N)"
   ]
  },
  {
   "cell_type": "code",
   "execution_count": 9,
   "metadata": {},
   "outputs": [
    {
     "data": {
      "image/png": "[encoded data removed]",
      "text/plain": [
       "<Figure size 432x288 with 1 Axes>"
      ]
     },
     "metadata": {
      "needs_background": "light"
     },
     "output_type": "display_data"
    }
   ],
   "source": [
    "# Plot of the gaussian behaviour of the single computations over each sample\n",
    "\n",
    "hmin = Integral.min()\n",
    "hmax = Integral.max()\n",
    "plt.hist(Integral, 30, (hmin, hmax))\n",
    "plt.show()"
   ]
  },
  {
   "cell_type": "code",
   "execution_count": 10,
   "metadata": {},
   "outputs": [
    {
     "name": "stdout",
     "output_type": "stream",
     "text": [
      "For hit-miss with 128 samples we have:\n",
      "\tmean\t= 1.7222014309430838\n",
      "\tvar\t= 0.11030921520680698\n",
      "\n"
     ]
    }
   ],
   "source": [
    "m1 = np.mean(Integral)\n",
    "v1 = np.var(Integral)\n",
    "print(f'For hit-miss with 128 samples we have:\\n'\n",
    "     f'\\tmean\\t= {m1}\\n\\tvar\\t= {np.sqrt(v1)}\\n')"
   ]
  },
  {
   "cell_type": "code",
   "execution_count": 11,
   "metadata": {},
   "outputs": [
    {
     "name": "stdout",
     "output_type": "stream",
     "text": [
      "1\n",
      "2\n",
      "3\n",
      "4\n",
      "5\n",
      "6\n",
      "7\n",
      "8\n",
      "9\n",
      "10\n",
      "11\n",
      "12\n"
     ]
    }
   ],
   "source": [
    "# Valuto ora il valore approssimato dell'integrale per diverse dimensioni dei sample\n",
    "# che vanno da 100 a 2500 con step di 200\n",
    "\n",
    "means1 = np.array([])\n",
    "varns1 = np.array([])\n",
    "\n",
    "Ns = np.arange(100, 2500, 200)\n",
    "for Ni in Ns:\n",
    "    Integral = np.array([])\n",
    "    for j in range (1000):\n",
    "        hit_c = 0\n",
    "        N = 0\n",
    "        for i in range (Ni):\n",
    "            x = random.uniform(0,a)\n",
    "            y = random.uniform(0,ymax)\n",
    "            N += 1\n",
    "            if (y<f(x)): \n",
    "                hit_c += 1\n",
    "        Integral = np.append(Integral, V*hit_c/N)\n",
    "    means1 = np.append(means1, Integral.mean())\n",
    "    varns1 = np.append(varns1, Integral.var())\n",
    "    print(len(means1))\n"
   ]
  },
  {
   "cell_type": "code",
   "execution_count": 12,
   "metadata": {},
   "outputs": [
    {
     "data": {
      "image/png": "[encoded data removed]",
      "text/plain": [
       "<Figure size 432x288 with 2 Axes>"
      ]
     },
     "metadata": {
      "needs_background": "light"
     },
     "output_type": "display_data"
    }
   ],
   "source": [
    "# plot of approximated values with errors (first) and variance(second)\n",
    "plt.figure(1)\n",
    "plt.subplot(211)\n",
    "plt.errorbar(Ns, means1, yerr=np.sqrt(varns1), fmt='s')\n",
    "plt.ylabel('Approximated value')\n",
    "\n",
    "plt.subplot(212)\n",
    "plt.plot(Ns, varns1, 'go')\n",
    "plt.ylabel('Variance')\n",
    "plt.xlabel('N')\n",
    "plt.show()\n"
   ]
  },
  {
   "cell_type": "markdown",
   "metadata": {},
   "source": [
    "# crude MC"
   ]
  },
  {
   "cell_type": "code",
   "execution_count": 1,
   "metadata": {},
   "outputs": [
    {
     "ename": "NameError",
     "evalue": "name 'np' is not defined",
     "output_type": "error",
     "traceback": [
      "\u001b[0;31m---------------------------------------------------------------------------\u001b[0m",
      "\u001b[0;31mNameError\u001b[0m                                 Traceback (most recent call last)",
      "\u001b[0;32m<ipython-input-1-34f3e614b6f1>\u001b[0m in \u001b[0;36m<module>\u001b[0;34m\u001b[0m\n\u001b[0;32m----> 1\u001b[0;31m \u001b[0mIntegral\u001b[0m \u001b[0;34m=\u001b[0m \u001b[0mnp\u001b[0m\u001b[0;34m.\u001b[0m\u001b[0marray\u001b[0m\u001b[0;34m(\u001b[0m\u001b[0;34m[\u001b[0m\u001b[0;34m]\u001b[0m\u001b[0;34m)\u001b[0m\u001b[0;34m\u001b[0m\u001b[0;34m\u001b[0m\u001b[0m\n\u001b[0m\u001b[1;32m      2\u001b[0m \u001b[0mVars\u001b[0m \u001b[0;34m=\u001b[0m \u001b[0mnp\u001b[0m\u001b[0;34m.\u001b[0m\u001b[0marray\u001b[0m\u001b[0;34m(\u001b[0m\u001b[0;34m[\u001b[0m\u001b[0;34m]\u001b[0m\u001b[0;34m)\u001b[0m\u001b[0;34m\u001b[0m\u001b[0;34m\u001b[0m\u001b[0m\n\u001b[1;32m      3\u001b[0m \u001b[0;34m\u001b[0m\u001b[0m\n\u001b[1;32m      4\u001b[0m \u001b[0;32mfor\u001b[0m \u001b[0mj\u001b[0m \u001b[0;32min\u001b[0m \u001b[0mrange\u001b[0m \u001b[0;34m(\u001b[0m\u001b[0;36m1000\u001b[0m\u001b[0;34m)\u001b[0m\u001b[0;34m:\u001b[0m\u001b[0;34m\u001b[0m\u001b[0;34m\u001b[0m\u001b[0m\n\u001b[1;32m      5\u001b[0m     \u001b[0mnum\u001b[0m \u001b[0;34m=\u001b[0m \u001b[0mnp\u001b[0m\u001b[0;34m.\u001b[0m\u001b[0marray\u001b[0m\u001b[0;34m(\u001b[0m\u001b[0;34m[\u001b[0m\u001b[0;34m]\u001b[0m\u001b[0;34m)\u001b[0m\u001b[0;34m\u001b[0m\u001b[0;34m\u001b[0m\u001b[0m\n",
      "\u001b[0;31mNameError\u001b[0m: name 'np' is not defined"
     ]
    }
   ],
   "source": [
    "Integral = np.array([])\n",
    "Vars = np.array([])\n",
    "\n",
    "for j in range (1000):\n",
    "    num = np.array([])\n",
    "    v = 0\n",
    "    for i in range (128):\n",
    "        x = random.uniform(0,a)\n",
    "        # store the evaluated integrand in the list\n",
    "        num = np.append(num, f(x))\n",
    "    m = num.mean()\n",
    "    Integral = np.append(Integral, m)\n",
    "    for i in range (128):\n",
    "        v = v + (num[i]-m)**2\n",
    "    v = v/(128-1) # variance of a single mearurement\n",
    "    v = v/128 # variance of the mean, that here is m\n",
    "    Vars = np.append(Vars, v)\n",
    "    \n",
    "    \n",
    "\n",
    "len(Integral)"
   ]
  },
  {
   "cell_type": "code",
   "execution_count": 14,
   "metadata": {},
   "outputs": [
    {
     "data": {
      "image/png": "[encoded data removed]",
      "text/plain": [
       "<Figure size 432x288 with 1 Axes>"
      ]
     },
     "metadata": {
      "needs_background": "light"
     },
     "output_type": "display_data"
    }
   ],
   "source": [
    "# Plot of the gaussian behaviour of the single computations over each sample\n",
    "# note that this is narrower than the previous one\n",
    "\n",
    "n, bins, patches = plt.hist(Integral, 30, (hmin, hmax))\n",
    "plt.xlabel('$Q_N$')\n",
    "plt.ylabel('Conteggi')\n",
    "plt.show()"
   ]
  },
  {
   "cell_type": "code",
   "execution_count": null,
   "metadata": {},
   "outputs": [],
   "source": [
    "\n"
   ]
  },
  {
   "cell_type": "code",
   "execution_count": 15,
   "metadata": {},
   "outputs": [
    {
     "data": {
      "image/png": "[encoded data removed]",
      "text/plain": [
       "<Figure size 432x288 with 1 Axes>"
      ]
     },
     "metadata": {
      "needs_background": "light"
     },
     "output_type": "display_data"
    }
   ],
   "source": [
    "plt.hist(Vars, 30)\n",
    "plt.xlabel('$\\sigma_N^2$')\n",
    "plt.ylabel('Conteggi')\n",
    "plt.show()"
   ]
  },
  {
   "cell_type": "code",
   "execution_count": 94,
   "metadata": {},
   "outputs": [
    {
     "name": "stdout",
     "output_type": "stream",
     "text": [
      "For crude MC with 128 samples we have:\n",
      "\tmean\t= 1.720933127838668\n",
      "\terr\t= 0.001375349274102379\n",
      "\n"
     ]
    }
   ],
   "source": [
    "m2 = np.mean(Integral)\n",
    "v2 = np.mean(Vars)\n",
    "print(f'For crude MC with 128 samples we have:\\n'\n",
    "     f'\\tmean\\t= {m2}\\n\\terr\\t= {np.sqrt(v2)/np.sqrt(1000)}\\n')"
   ]
  },
  {
   "cell_type": "code",
   "execution_count": 17,
   "metadata": {},
   "outputs": [
    {
     "name": "stdout",
     "output_type": "stream",
     "text": [
      "For crude MC with 128 samples we have:\n",
      "\tvar\t= 0.0019007489012372342\n",
      "\tvar\t= 0.0019007489012372342\n",
      "\n"
     ]
    }
   ],
   "source": [
    "print(f'For crude MC with 128 samples we have:\\n'\n",
    "     f'\\tvar\\t= {Vars.mean()}\\n\\tvar\\t= {v2}\\n')"
   ]
  },
  {
   "cell_type": "code",
   "execution_count": 18,
   "metadata": {},
   "outputs": [
    {
     "name": "stdout",
     "output_type": "stream",
     "text": [
      "1\n",
      "2\n",
      "3\n",
      "4\n",
      "5\n",
      "6\n",
      "7\n",
      "8\n",
      "9\n",
      "10\n",
      "11\n",
      "12\n"
     ]
    }
   ],
   "source": [
    "# Valuto ora il valore approssimato dell'integrale per diverse dimensioni dei sample\n",
    "# che vanno da 100 a 2500 con step di 200\n",
    "\n",
    "means2 = np.array([])\n",
    "varns2 = np.array([])\n",
    "vals2 = np.array([])\n",
    "\n",
    "Ns = np.arange(100, 2500, 200)\n",
    "for Ni in Ns:\n",
    "    Integral = np.array([])\n",
    "    for j in range (1000):\n",
    "        num = np.array([])\n",
    "        for i in range (Ni):\n",
    "            x = random.uniform(0,a)\n",
    "            # store the evaluated integrand in the list\n",
    "            num = np.append(num, f(x))\n",
    "        Integral = np.append(Integral, num.mean())\n",
    "    means2 = np.append(means2, Integral.mean())\n",
    "    varns2 = np.append(varns2, Integral.var())\n",
    "    vals2 = np.append(vals2, Integral[0])\n",
    "    print(len(means2))\n"
   ]
  },
  {
   "cell_type": "code",
   "execution_count": 19,
   "metadata": {},
   "outputs": [
    {
     "data": {
      "image/png": "[encoded data removed]",
      "text/plain": [
       "<Figure size 432x288 with 1 Axes>"
      ]
     },
     "metadata": {
      "needs_background": "light"
     },
     "output_type": "display_data"
    }
   ],
   "source": [
    "# plot of approximated values with errors (first) and variance(second)\n",
    "plt.figure(1)\n",
    "plt.errorbar(Ns, vals2, yerr=np.sqrt(varns2), fmt='s')\n",
    "plt.ylabel('Approximated value')\n",
    "plt.xlabel('N')\n",
    "plt.show()\n"
   ]
  },
  {
   "cell_type": "code",
   "execution_count": 20,
   "metadata": {},
   "outputs": [
    {
     "data": {
      "image/png": "[encoded data removed]",
      "text/plain": [
       "<Figure size 432x288 with 1 Axes>"
      ]
     },
     "metadata": {
      "needs_background": "light"
     },
     "output_type": "display_data"
    }
   ],
   "source": [
    "plt.plot(Ns, np.sqrt(varns2), 'go')\n",
    "plt.ylabel('$\\sigma_{N}^2$')\n",
    "plt.xlabel('N')\n",
    "plt.show()"
   ]
  },
  {
   "cell_type": "code",
   "execution_count": 21,
   "metadata": {},
   "outputs": [],
   "source": [
    "def test_func(x, a):\n",
    "    return a / np.sqrt(x)\n"
   ]
  },
  {
   "cell_type": "code",
   "execution_count": 22,
   "metadata": {},
   "outputs": [
    {
     "name": "stdout",
     "output_type": "stream",
     "text": [
      "[0.49388967]\n",
      "[0.04365409]\n",
      "[[1.03493841e-05]]\n"
     ]
    }
   ],
   "source": [
    "params, params_covariance = optimize.curve_fit(test_func, Ns, np.sqrt(varns2),\n",
    "                                               p0=[2])\n",
    "\n",
    "print(params)\n",
    "\n",
    "print(params/np.sqrt(128))\n",
    "\n",
    "print(np.sqrt(params_covariance))"
   ]
  },
  {
   "cell_type": "code",
   "execution_count": 23,
   "metadata": {},
   "outputs": [
    {
     "data": {
      "image/png": "[encoded data removed]",
      "text/plain": [
       "<Figure size 432x288 with 1 Axes>"
      ]
     },
     "metadata": {
      "needs_background": "light"
     },
     "output_type": "display_data"
    }
   ],
   "source": [
    "ran = np.arange(100, 2500, 1)\n",
    "\n",
    "plt.plot(Ns, np.sqrt(varns2), 'go')\n",
    "plt.plot(ran, test_func(ran, params))\n",
    "plt.ylabel('$\\sigma_{N}^2$')\n",
    "plt.xlabel('N')\n",
    "plt.show()"
   ]
  },
  {
   "cell_type": "markdown",
   "metadata": {},
   "source": [
    "# Stratified sampling"
   ]
  },
  {
   "cell_type": "markdown",
   "metadata": {},
   "source": [
    "In this way, I choose to divide the domain in two intervals: [0, 0.5] and [0.5, 1].\n",
    "Then, I compute the integral over the two domains, each one with his variance. Finally, the value of the integral on the complete domain will be the sum of the two integrals, and the variance will be the sum of variances:<br />\n",
    "\n",
    "$$I=\\frac{I_a}{2}+\\frac{I_b}{2}$$ \n",
    "\n",
    "$$\\sigma^2=\\frac{\\sigma^2_a}{4}+\\frac{\\sigma^2_b}{4}$$\n",
    "\n",
    "So, the final error on the integral will be:\n",
    "\n",
    "$$\\sigma=\\frac{1}{2}\\sqrt{\\sigma^2_a+\\sigma^2_b}$$\n",
    "\n",
    "Notice that each $\\sigma$ will still go as $\\frac{1}{\\sqrt{N}}$, so will do the total one, but now the coefficient will be smaller\n",
    "\n"
   ]
  },
  {
   "cell_type": "code",
   "execution_count": 24,
   "metadata": {},
   "outputs": [],
   "source": [
    "# per calcolare la varianza, calcolo la media dei valori ottenuti da 1000 calcoli di integrali\n",
    "# su 1000 diversi sample da 128 numeri\n",
    "\n",
    "\n",
    "Integral = np.array([])\n",
    "Vars = np.array([])\n",
    "\n",
    "for j in range (1000):\n",
    "    num1 = np.array([])\n",
    "    num2 = np.array([])\n",
    "    va = 0\n",
    "    vb = 0\n",
    "    for i in range (64):\n",
    "        x1 = random.uniform(0,a/2.)\n",
    "        x2 = random.uniform(a/2.,1)\n",
    "        # store the evaluated integrands in the lists\n",
    "        num1 = np.append(num1, f(x1))\n",
    "        num2 = np.append(num2, f(x2))\n",
    "    ma = num1.mean()\n",
    "    mb = num2.mean()\n",
    "    Integral = np.append(Integral, 0.5*(ma+mb))\n",
    "    for i in range (64):\n",
    "        va = va + (num1[i] - ma)**2\n",
    "        vb = vb + (num2[i] - mb)**2\n",
    "    va = va / ((64-1)*64) #variances for the two computations\n",
    "    vb = vb / ((64-1)*64)\n",
    "    \n",
    "    Vars = np.append(Vars, 0.25*(va + vb))"
   ]
  },
  {
   "cell_type": "code",
   "execution_count": 25,
   "metadata": {},
   "outputs": [
    {
     "data": {
      "image/png": "[encoded data removed]",
      "text/plain": [
       "<Figure size 432x288 with 1 Axes>"
      ]
     },
     "metadata": {
      "needs_background": "light"
     },
     "output_type": "display_data"
    }
   ],
   "source": [
    "# Plot of the gaussian behaviour of the single computations over each sample\n",
    "# note that this is narrower than the previous ones\n",
    "\n",
    "plt.hist(Integral, 30, (hmin, hmax))\n",
    "plt.xlabel('$Q_{Nstrat}$')\n",
    "plt.ylabel('Conteggi')\n",
    "plt.show()"
   ]
  },
  {
   "cell_type": "code",
   "execution_count": 26,
   "metadata": {},
   "outputs": [
    {
     "data": {
      "image/png": "[encoded data removed]",
      "text/plain": [
       "<Figure size 432x288 with 1 Axes>"
      ]
     },
     "metadata": {
      "needs_background": "light"
     },
     "output_type": "display_data"
    }
   ],
   "source": [
    "plt.hist(Vars, 30)\n",
    "plt.xlabel('$\\sigma_{Nstrat}^2$')\n",
    "plt.ylabel('Conteggi')\n",
    "plt.show()"
   ]
  },
  {
   "cell_type": "code",
   "execution_count": 27,
   "metadata": {},
   "outputs": [
    {
     "name": "stdout",
     "output_type": "stream",
     "text": [
      "For Stratified Sampling MC we have:\n",
      "\tmean\t= 1.7185853454932944\n",
      "\tvar\t= 0.0007129265889678643\n",
      "\n"
     ]
    }
   ],
   "source": [
    "m3 = np.mean(Integral)\n",
    "v3 = np.mean(Vars)\n",
    "\n",
    "print(f'For Stratified Sampling MC we have:\\n'\n",
    "     f'\\tmean\\t= {m3}\\n\\tvar\\t= {np.sqrt(v3)/np.sqrt(1000)}\\n')"
   ]
  },
  {
   "cell_type": "code",
   "execution_count": 28,
   "metadata": {},
   "outputs": [
    {
     "name": "stdout",
     "output_type": "stream",
     "text": [
      "1\n",
      "2\n",
      "3\n",
      "4\n",
      "5\n",
      "6\n",
      "7\n",
      "8\n",
      "9\n",
      "10\n",
      "11\n",
      "12\n"
     ]
    }
   ],
   "source": [
    "# Valuto ora il valore approssimato dell'integrale per diverse dimensioni dei sample\n",
    "# che vanno da 100 a 2500 con step di 200\n",
    "\n",
    "means3 = np.array([])\n",
    "varns3 = np.array([])\n",
    "\n",
    "Ns = np.arange(50, 1250, 100)\n",
    "for N in Ns:\n",
    "    Integral = np.array([])\n",
    "    Vars = np.array([])\n",
    "\n",
    "    for j in range (1000):\n",
    "        num1 = np.array([])\n",
    "        num2 = np.array([])\n",
    "        v1 = 0\n",
    "        v2 = 0\n",
    "        for i in range (N):\n",
    "            x1 = random.uniform(0,a/2.)\n",
    "            x2 = random.uniform(a/2.,1)\n",
    "            # store the evaluated integrands in the lists\n",
    "            num1 = np.append(num1, f(x1))\n",
    "            num2 = np.append(num2, f(x2))\n",
    "        m1 = num1.mean()\n",
    "        m2 = num2.mean()\n",
    "        Integral = np.append(Integral, 0.5*(m1+m2))\n",
    "        for i in range (N):\n",
    "            v1 = v1 + (num1[i] - m1)**2\n",
    "            v2 = v2 + (num2[i] - m2)**2\n",
    "        v1 = v1 / ((N-1)*N) #variances for the two computations\n",
    "        v2 = v2 / ((N-1)*N)\n",
    "    \n",
    "        Vars = np.append(Vars, 0.25*(v1 + v2))\n",
    "    \n",
    "    means3 = np.append(means3, Integral.mean())\n",
    "    varns3 = np.append(varns3, Vars.mean())\n",
    "    print(len(means3))\n"
   ]
  },
  {
   "cell_type": "code",
   "execution_count": 29,
   "metadata": {},
   "outputs": [
    {
     "data": {
      "image/png": "[encoded data removed]",
      "text/plain": [
       "<Figure size 432x288 with 2 Axes>"
      ]
     },
     "metadata": {
      "needs_background": "light"
     },
     "output_type": "display_data"
    }
   ],
   "source": [
    "# plot of approximated values with errors (first) and variance(second)\n",
    "plt.figure(1)\n",
    "plt.subplot(211)\n",
    "plt.errorbar(Ns*2, means3, yerr=np.sqrt(varns3), fmt='s')\n",
    "plt.ylabel('Approximated value')\n",
    "\n",
    "plt.subplot(212)\n",
    "plt.plot(Ns, varns3, 'go')\n",
    "plt.ylabel('Variance')\n",
    "plt.xlabel('N')\n",
    "plt.show()\n"
   ]
  },
  {
   "cell_type": "code",
   "execution_count": 30,
   "metadata": {},
   "outputs": [
    {
     "data": {
      "image/png": "[encoded data removed]",
      "text/plain": [
       "<Figure size 432x288 with 1 Axes>"
      ]
     },
     "metadata": {
      "needs_background": "light"
     },
     "output_type": "display_data"
    },
    {
     "name": "stdout",
     "output_type": "stream",
     "text": [
      "[0.25493532]\n",
      "[0.02253331]\n",
      "[[5.32594084e-05]]\n"
     ]
    }
   ],
   "source": [
    "params, params_covariance = optimize.curve_fit(test_func, Ns*2, np.sqrt(varns3),\n",
    "                                               p0=[2])\n",
    "ran = np.arange(100, 2500, 1)\n",
    "\n",
    "plt.plot(Ns*2, np.sqrt(varns3), 'go')\n",
    "plt.plot(ran, test_func(ran, params))\n",
    "plt.ylabel('$\\sigma_{Nstrat}^2$')\n",
    "plt.xlabel('N')\n",
    "plt.show()\n",
    "\n",
    "print(params)\n",
    "\n",
    "print(params/np.sqrt(128))\n",
    "\n",
    "print(np.sqrt(params_covariance))"
   ]
  },
  {
   "cell_type": "markdown",
   "metadata": {},
   "source": [
    "# Importance sampling"
   ]
  },
  {
   "cell_type": "markdown",
   "metadata": {},
   "source": [
    "This method is the most powerful, among those shown here, in reducing the variance.\n",
    "The concept is simple: instead of extracting numbers from a uniform distribution, we extract them from a distribution that is similar to the function which integral we want to compute. \n",
    "The mathematical concept is a simple change of variable:\n",
    "$$I=\\int_a^bf(x)dx=\\int_a^b\\frac{f(x)}{w(x)}w(x)dx$$\n",
    "Where $w(x)$ is the sampling distribution.\n",
    "Hence, if $w(x)$ is normalized in the interval [a, b], we can just extract N numbers $x_i$ under this distribution and evaluate the integral using the following estimator:\n",
    "$$I_N=\\frac{1}{N}\\sum_{i=0}^N\\frac{f(x_i)}{w(x_i)}$$"
   ]
  },
  {
   "cell_type": "markdown",
   "metadata": {},
   "source": [
    "## How to extract numbers under a generical distribution?\n",
    "\n",
    "We will use the **inverse function method**. \n",
    "If we want to extract numbers following the distrution $w(x)$, we need first to compute the cumulative function of $w$:\n",
    "$$W(x)=\\int_0^xw(t)dt$$\n",
    "and to invert it. Now, if we extract uniform random numbers $x_i$ in the interval [a, b], taking $W^{-1}(x_i)$ we find numbers distributed as $w(x)$"
   ]
  },
  {
   "cell_type": "code",
   "execution_count": 63,
   "metadata": {},
   "outputs": [],
   "source": [
    "# definisco il generatore di due funzioni di sampling con il metodo della funzione inversa\n",
    "def s1 ():\n",
    "    'genera con distribuzione 1/e+2(e-1)/e*x'\n",
    "    x=random.uniform(0, 1)\n",
    "    # pdf(x) = 1/e+2(e-1)/e*x -> \n",
    "    # cum.function PDF(x) = int0_x pdf(x)dx = x/e + (1-1/e)x^2 ->\n",
    "    # inverse (1 - sqrt(4xe^2 - 4ex + 1))/(2 - 2e)\n",
    "    return (1 - np.sqrt(4*x*np.e**2 - 4*np.e*x + 1))/(2 - 2*np.e)\n",
    "\n",
    "def w1 (x):\n",
    "    return (1+2*(np.e-1)*x)/np.e\n",
    "\n",
    "def w2 (x):\n",
    "    return (2.5+2.5*(np.e-1)*x**1.5)/(np.e+1.5)\n",
    "\n",
    "def s2 ():\n",
    "    'genera con distribuzione (1+3(e-1)*x^2)/e'\n",
    "    #troppo difficile invertire: uso un altro metodo\n",
    "    while(0==0):\n",
    "        x=random.uniform(0, 1)\n",
    "        y=random.uniform(0, np.e)\n",
    "        if (y<w2(x)):    return x\n",
    "        "
   ]
  },
  {
   "cell_type": "code",
   "execution_count": 32,
   "metadata": {},
   "outputs": [],
   "source": [
    "# costruisco un loop con queste istruzioni\n",
    "\n",
    "\n",
    "\n",
    "Integral = np.array([])\n",
    "Vars = np.array([])\n",
    "\n",
    "for j in range (1000):\n",
    "    num = np.array([])\n",
    "    v = 0\n",
    "    i = 0\n",
    "    for i in range (128):\n",
    "        x = s1()\n",
    "        # store the number in the list\n",
    "        num = np.append(num, f(x)/w1(x))\n",
    "    m = num.mean()\n",
    "    Integral = np.append(Integral, m)\n",
    "    for i in range (128):\n",
    "        v = v + (num[i] - m)**2\n",
    "    v = v/((128-1)*128)\n",
    "    Vars = np.append(Vars, v)"
   ]
  },
  {
   "cell_type": "code",
   "execution_count": 33,
   "metadata": {},
   "outputs": [
    {
     "data": {
      "image/png": "[encoded data removed]",
      "text/plain": [
       "<Figure size 432x288 with 1 Axes>"
      ]
     },
     "metadata": {
      "needs_background": "light"
     },
     "output_type": "display_data"
    }
   ],
   "source": [
    "# Plot of the gaussian behaviour of the single computations over each sample\n",
    "# note that this is narrower than the previous ones\n",
    "\n",
    "plt.hist((Integral), 30, (hmin, hmax))\n",
    "plt.xlabel('$Q_{Nimp1}^2$')\n",
    "plt.ylabel('Conteggi')\n",
    "plt.show()"
   ]
  },
  {
   "cell_type": "code",
   "execution_count": 34,
   "metadata": {},
   "outputs": [
    {
     "data": {
      "image/png": "[encoded data removed]",
      "text/plain": [
       "<Figure size 432x288 with 1 Axes>"
      ]
     },
     "metadata": {
      "needs_background": "light"
     },
     "output_type": "display_data"
    }
   ],
   "source": [
    "plt.hist((Vars), 30)\n",
    "plt.xlabel('$\\sigma_{Nimp1}^2$')\n",
    "plt.ylabel('Conteggi')\n",
    "plt.show()"
   ]
  },
  {
   "cell_type": "code",
   "execution_count": 35,
   "metadata": {},
   "outputs": [],
   "source": [
    "m4 = np.mean(Integral)\n",
    "v4 = np.mean(Vars)"
   ]
  },
  {
   "cell_type": "code",
   "execution_count": 55,
   "metadata": {},
   "outputs": [
    {
     "name": "stdout",
     "output_type": "stream",
     "text": [
      "For Importance Sampling MC we have:\n",
      "\tmean\t= 1.7175344430786026\n",
      "\tvar\t= 0.0005517248754152628\n",
      "\n"
     ]
    }
   ],
   "source": [
    "print(f'For Importance Sampling MC we have:\\n'\n",
    "     f'\\tmean\\t= {m4}\\n\\tvar\\t= {np.sqrt(v4)/np.sqrt(1000)}\\n')"
   ]
  },
  {
   "cell_type": "code",
   "execution_count": 37,
   "metadata": {},
   "outputs": [],
   "source": [
    "# costruisco un loop con queste istruzioni\n",
    "\n",
    "Integral = np.array([])\n",
    "Vars = np.array([])\n",
    "\n",
    "for j in range (1000):\n",
    "    num = np.array([])\n",
    "    v = 0\n",
    "    i = 0\n",
    "    for i in range (128):\n",
    "        x = s2()\n",
    "        # store the number in the list\n",
    "        num = np.append(num, f(x)/w2(x))\n",
    "    m = num.mean()\n",
    "    Integral = np.append(Integral, m)\n",
    "    for i in range (128):\n",
    "        v = v + (num[i] - m)**2\n",
    "    v = v/((128-1)*128)\n",
    "    Vars = np.append(Vars, v)\n",
    "    "
   ]
  },
  {
   "cell_type": "code",
   "execution_count": 38,
   "metadata": {},
   "outputs": [
    {
     "data": {
      "image/png": "[encoded data removed]",
      "text/plain": [
       "<Figure size 432x288 with 1 Axes>"
      ]
     },
     "metadata": {
      "needs_background": "light"
     },
     "output_type": "display_data"
    }
   ],
   "source": [
    "# Plot of the gaussian behaviour of the single computations over each sample\n",
    "# note that this is narrower than the previous ones\n",
    "\n",
    "plt.hist((Integral), 30, (hmin, hmax))\n",
    "plt.xlabel('$\\sigma_{Nimp2}^2$')\n",
    "plt.ylabel('Conteggi')\n",
    "plt.show()"
   ]
  },
  {
   "cell_type": "code",
   "execution_count": 39,
   "metadata": {},
   "outputs": [
    {
     "data": {
      "image/png": "[encoded data removed]",
      "text/plain": [
       "<Figure size 432x288 with 1 Axes>"
      ]
     },
     "metadata": {
      "needs_background": "light"
     },
     "output_type": "display_data"
    }
   ],
   "source": [
    "plt.hist((Vars), 30)\n",
    "plt.xlabel('$\\sigma_{Nimp2}^2$')\n",
    "plt.ylabel('Conteggi')\n",
    "plt.show()"
   ]
  },
  {
   "cell_type": "code",
   "execution_count": 40,
   "metadata": {},
   "outputs": [],
   "source": [
    "m5 = np.mean(Integral)\n",
    "v5 = np.mean(Vars)"
   ]
  },
  {
   "cell_type": "code",
   "execution_count": 56,
   "metadata": {},
   "outputs": [
    {
     "name": "stdout",
     "output_type": "stream",
     "text": [
      "For Importance Sampling MC we have:\n",
      "\tmean\t= 1.7182092203134358\n",
      "\tvar\t= 0.00010283393903004149\n",
      "\n"
     ]
    }
   ],
   "source": [
    "print(f'For Importance Sampling MC we have:\\n'\n",
    "     f'\\tmean\\t= {m5}\\n\\tvar\\t= {np.sqrt(v5)/np.sqrt(1000)}\\n')"
   ]
  },
  {
   "cell_type": "code",
   "execution_count": 42,
   "metadata": {},
   "outputs": [
    {
     "name": "stdout",
     "output_type": "stream",
     "text": [
      "1\n",
      "2\n",
      "3\n",
      "4\n",
      "5\n",
      "6\n",
      "7\n",
      "8\n",
      "9\n",
      "10\n",
      "11\n",
      "12\n"
     ]
    }
   ],
   "source": [
    "# Valuto ora il valore approssimato dell'integrale per diverse dimensioni dei sample\n",
    "# che vanno da 100 a 2500 con step di 200\n",
    "\n",
    "means4 = np.array([])\n",
    "varns4 = np.array([])\n",
    "\n",
    "Ns = np.arange(100, 2500, 200)\n",
    "for N in Ns:\n",
    "    Integral = np.array([])\n",
    "    Vars = np.array([])\n",
    "\n",
    "    for j in range (1000):\n",
    "        num = np.array([])\n",
    "        v = 0\n",
    "        i = 0\n",
    "        for i in range (N):\n",
    "            x = s1()\n",
    "            # store the number in the list\n",
    "            num = np.append(num, f(x)/w1(x))\n",
    "        m = num.mean()\n",
    "        Integral = np.append(Integral, m)\n",
    "        for i in range (N):\n",
    "            v = v + (num[i] - m)**2\n",
    "        v = v/((N-1)*N)\n",
    "        Vars = np.append(Vars, v)\n",
    "    means4 = np.append(means4, Integral.mean())\n",
    "    varns4 = np.append(varns4, Vars.mean())\n",
    "    print(len(means4))\n"
   ]
  },
  {
   "cell_type": "code",
   "execution_count": 43,
   "metadata": {},
   "outputs": [
    {
     "name": "stdout",
     "output_type": "stream",
     "text": [
      "[0.01999789 0.0113956  0.00883569 0.00745084 0.00659225 0.00598054\n",
      " 0.00549611 0.0051086  0.00480427 0.0045385  0.00432538 0.00412546]\n"
     ]
    }
   ],
   "source": [
    "print(np.sqrt(varns4))"
   ]
  },
  {
   "cell_type": "code",
   "execution_count": 44,
   "metadata": {},
   "outputs": [
    {
     "data": {
      "image/png": "[encoded data removed]",
      "text/plain": [
       "<Figure size 432x288 with 2 Axes>"
      ]
     },
     "metadata": {
      "needs_background": "light"
     },
     "output_type": "display_data"
    }
   ],
   "source": [
    "# plot of approximated values with errors (first) and variance(second)\n",
    "plt.figure(1)\n",
    "plt.subplot(211)\n",
    "plt.errorbar(Ns, means4, yerr=np.sqrt(varns4), fmt='s')\n",
    "plt.ylabel('Approximated value')\n",
    "\n",
    "plt.subplot(212)\n",
    "plt.plot(Ns, varns4, 'go')\n",
    "plt.ylabel('Variance')\n",
    "plt.xlabel('N')\n",
    "plt.show()\n"
   ]
  },
  {
   "cell_type": "code",
   "execution_count": 45,
   "metadata": {},
   "outputs": [
    {
     "data": {
      "image/png": "[encoded data removed]",
      "text/plain": [
       "<Figure size 432x288 with 1 Axes>"
      ]
     },
     "metadata": {
      "needs_background": "light"
     },
     "output_type": "display_data"
    },
    {
     "name": "stdout",
     "output_type": "stream",
     "text": [
      "[0.19870603]\n",
      "[0.0175633]\n",
      "[[0.00035633]]\n"
     ]
    }
   ],
   "source": [
    "params, params_covariance = optimize.curve_fit(test_func, Ns, np.sqrt(varns4),\n",
    "                                               p0=[2])\n",
    "ran = np.arange(100, 2500, 1)\n",
    "\n",
    "plt.plot(Ns, np.sqrt(varns4), 'go')\n",
    "plt.plot(ran, test_func(ran, params))\n",
    "plt.ylabel('$\\sigma_{Nimp1}^2$')\n",
    "plt.xlabel('N')\n",
    "plt.show()\n",
    "\n",
    "print(params)\n",
    "\n",
    "print(params/np.sqrt(128))\n",
    "\n",
    "print(np.sqrt(params_covariance))"
   ]
  },
  {
   "cell_type": "code",
   "execution_count": 46,
   "metadata": {},
   "outputs": [
    {
     "name": "stdout",
     "output_type": "stream",
     "text": [
      "1\n",
      "2\n",
      "3\n",
      "4\n",
      "5\n",
      "6\n",
      "7\n",
      "8\n",
      "9\n",
      "10\n",
      "11\n",
      "12\n"
     ]
    }
   ],
   "source": [
    "# Valuto ora il valore approssimato dell'integrale per diverse dimensioni dei sample\n",
    "# che vanno da 100 a 2500 con step di 200\n",
    "\n",
    "means5 = np.array([])\n",
    "varns5 = np.array([])\n",
    "\n",
    "Ns = np.arange(100, 2500, 200)\n",
    "for N in Ns:\n",
    "    Integral = np.array([])\n",
    "    Vars = np.array([])\n",
    "\n",
    "    for j in range (1000):\n",
    "        num = np.array([])\n",
    "        v = 0\n",
    "        i = 0\n",
    "        for i in range (N):\n",
    "            x = s2()\n",
    "            # store the number in the list\n",
    "            num = np.append(num, f(x)/w2(x))\n",
    "        m = num.mean()\n",
    "        Integral = np.append(Integral, m)\n",
    "        for i in range (N):\n",
    "            v = v + (num[i] - m)**2\n",
    "        v = v/((N-1)*N)\n",
    "        Vars = np.append(Vars, v)\n",
    "    means5 = np.append(means5, Integral.mean())\n",
    "    varns5 = np.append(varns5, Integral.var())\n",
    "    print(len(means5))\n"
   ]
  },
  {
   "cell_type": "code",
   "execution_count": 47,
   "metadata": {},
   "outputs": [
    {
     "data": {
      "image/png": "[encoded data removed]",
      "text/plain": [
       "<Figure size 432x288 with 2 Axes>"
      ]
     },
     "metadata": {
      "needs_background": "light"
     },
     "output_type": "display_data"
    }
   ],
   "source": [
    "# plot of approximated values with errors (first) and variance(second)\n",
    "plt.figure(1)\n",
    "plt.subplot(211)\n",
    "plt.errorbar(Ns, means5, yerr=np.sqrt(varns5), fmt='s')\n",
    "plt.ylabel('Approximated value')\n",
    "\n",
    "plt.subplot(212)\n",
    "plt.plot(Ns, varns5, 'go')\n",
    "plt.ylabel('Variance')\n",
    "plt.xlabel('N')\n",
    "plt.show()\n"
   ]
  },
  {
   "cell_type": "code",
   "execution_count": 48,
   "metadata": {},
   "outputs": [
    {
     "data": {
      "image/png": "[encoded data removed]",
      "text/plain": [
       "<Figure size 432x288 with 1 Axes>"
      ]
     },
     "metadata": {
      "needs_background": "light"
     },
     "output_type": "display_data"
    },
    {
     "name": "stdout",
     "output_type": "stream",
     "text": [
      "[0.03720456]\n",
      "[0.00328845]\n",
      "[[0.00017928]]\n"
     ]
    }
   ],
   "source": [
    "params, params_covariance = optimize.curve_fit(test_func, Ns, np.sqrt(varns5),\n",
    "                                               p0=[2])\n",
    "ran = np.arange(100, 2500, 1)\n",
    "\n",
    "plt.plot(Ns, np.sqrt(varns5), 'go')\n",
    "plt.plot(ran, test_func(ran, params))\n",
    "plt.ylabel('$\\sigma_{Nimp1}^2$')\n",
    "plt.xlabel('N')\n",
    "plt.show()\n",
    "\n",
    "print(params)\n",
    "\n",
    "print(params/np.sqrt(128))\n",
    "\n",
    "print(np.sqrt(params_covariance))"
   ]
  },
  {
   "cell_type": "markdown",
   "metadata": {},
   "source": [
    "# Error comparison"
   ]
  },
  {
   "cell_type": "markdown",
   "metadata": {},
   "source": [
    "Here I plot the behaviour of the variances and the standard deviations for the various methods of integration.\n",
    "We can see that they thend to converge to zero faster as we go towards the importance sampling method"
   ]
  },
  {
   "cell_type": "code",
   "execution_count": 49,
   "metadata": {},
   "outputs": [
    {
     "data": {
      "image/png": "[encoded data removed]",
      "text/plain": [
       "<Figure size 432x288 with 1 Axes>"
      ]
     },
     "metadata": {
      "needs_background": "light"
     },
     "output_type": "display_data"
    }
   ],
   "source": [
    "# Variance\n",
    "plt.plot(Ns, varns1, 'bo', Ns, varns2, 'go', Ns, varns3, 'ro', Ns, varns4, 'ko', Ns, varns5, 'yo' )\n",
    "plt.title('Variance')\n",
    "plt.show()"
   ]
  },
  {
   "cell_type": "code",
   "execution_count": 50,
   "metadata": {
    "scrolled": true
   },
   "outputs": [
    {
     "data": {
      "image/png": "[encoded data removed]",
      "text/plain": [
       "<Figure size 432x288 with 1 Axes>"
      ]
     },
     "metadata": {
      "needs_background": "light"
     },
     "output_type": "display_data"
    }
   ],
   "source": [
    "# Error\n",
    "plt.plot(Ns, np.sqrt(varns1), 'bo', Ns, np.sqrt(varns2), 'go', Ns, np.sqrt(varns3), 'ro', Ns, np.sqrt(varns4), 'ko', Ns, np.sqrt(varns5), 'yo' )\n",
    "plt.title('Error')\n",
    "plt.show()"
   ]
  },
  {
   "cell_type": "code",
   "execution_count": 54,
   "metadata": {},
   "outputs": [
    {
     "data": {
      "image/png": "[encoded data removed]",
      "text/plain": [
       "<Figure size 432x288 with 1 Axes>"
      ]
     },
     "metadata": {
      "needs_background": "light"
     },
     "output_type": "display_data"
    }
   ],
   "source": [
    "# Error\n",
    "plt.plot(Ns, np.sqrt(varns2), 'bo', label='Crude MC')\n",
    "plt.plot(Ns, np.sqrt(varns3), 'go', label='Stratified Sampling')\n",
    "plt.plot(Ns, np.sqrt(varns4), 'ro', label='Importance Sampling $w_1$')\n",
    "plt.plot(Ns, np.sqrt(varns5), 'yo', label='Importance Sampling $w_2$')\n",
    "plt.xlabel('$N$')\n",
    "plt.ylabel('$\\sigma_{Ni}^2$')\n",
    "plt.legend()\n",
    "plt.show()"
   ]
  },
  {
   "cell_type": "code",
   "execution_count": 80,
   "metadata": {},
   "outputs": [
    {
     "data": {
      "image/png": "[encoded data removed]",
      "text/plain": [
       "<Figure size 432x288 with 1 Axes>"
      ]
     },
     "metadata": {
      "needs_background": "light"
     },
     "output_type": "display_data"
    }
   ],
   "source": [
    "xx = np.arange(0, 1, 0.01)\n",
    "\n",
    "plt.plot(xx, f(xx), label='$y=e^x$')\n",
    "plt.plot(xx, w1(xx)*np.e, label='$y=w_1(x)$')\n",
    "plt.plot(xx, w2(xx)*(np.e+1.5)/2.5, label='$y=w_2(x)$')\n",
    "plt.legend()\n",
    "plt.xlabel('$x$')\n",
    "plt.ylabel('$y$')\n",
    "plt.show()"
   ]
  },
  {
   "cell_type": "code",
   "execution_count": 103,
   "metadata": {},
   "outputs": [
    {
     "data": {
      "text/plain": [
       "<ErrorbarContainer object of 3 artists>"
      ]
     },
     "execution_count": 103,
     "metadata": {},
     "output_type": "execute_result"
    },
    {
     "data": {
      "image/png": "[encoded data removed]",
      "text/plain": [
       "<Figure size 432x288 with 1 Axes>"
      ]
     },
     "metadata": {
      "needs_background": "light"
     },
     "output_type": "display_data"
    }
   ],
   "source": [
    "x = list(['Crude MC', 'Stratified\\nsampling', 'Importance\\nsampling\\n$w_1$', 'Importance\\nsampling\\n$w_2$'])\n",
    "y = list([m2, m3, m2, m5])\n",
    "err = list ( [np.sqrt(v2)/np.sqrt(1000), np.sqrt(v3)/np.sqrt(1000), \n",
    "             np.sqrt(v4)/np.sqrt(1000), np.sqrt(v5)/np.sqrt(1000)])\n",
    "plt.errorbar(x, y, yerr=err, fmt='s')\n"
   ]
  },
  {
   "cell_type": "code",
   "execution_count": null,
   "metadata": {},
   "outputs": [],
   "source": []
  }
 ],
 "metadata": {
  "kernelspec": {
   "display_name": "Python 3",
   "language": "python",
   "name": "python3"
  },
  "language_info": {
   "codemirror_mode": {
    "name": "ipython",
    "version": 3
   },
   "file_extension": ".py",
   "mimetype": "text/x-python",
   "name": "python",
   "nbconvert_exporter": "python",
   "pygments_lexer": "ipython3",
   "version": "3.6.8"
  }
 },
 "nbformat": 4,
 "nbformat_minor": 2
}
