{
 "cells": [
  {
   "cell_type": "code",
   "execution_count": 2,
   "metadata": {},
   "outputs": [
    {
     "name": "stdout",
     "output_type": "stream",
     "text": [
      "We started with the seed '0540' and the algorithm generated a list of 4 pseudo-random numbers:\n",
      "[540, 2916, 5030, 3009]\n"
     ]
    }
   ],
   "source": [
    "# first of all we insert the seed\n",
    "seed = '0540'\n",
    "\n",
    "# then we introduce some variables useful for the code\n",
    "number = int(seed);\n",
    "PR_list = []\n",
    "counter = 0\n",
    "\n",
    "# we implement the middle-square method loop\n",
    "while number not in PR_list:\n",
    "    # we count the number of steps the algorithm does before repeating itself\n",
    "    counter += 1\n",
    "    # we add the number to the pseudo-random generated list\n",
    "    PR_list.append(number)\n",
    "    # we square the number\n",
    "    squared = number * number\n",
    "    # then we convert the squared number into a string\n",
    "    squared = str(squared)\n",
    "    # we pad the string on the left with zeros to fill width\n",
    "    squared = squared.zfill(8)\n",
    "    # we cut the string considering the central 4 digits\n",
    "    squared = squared[2:6]\n",
    "    # finally we convert again the string into an integer\n",
    "    number = int(squared)\n",
    "\n",
    "print(f\"We started with the seed '{seed}' and the algorithm generated a list of {counter} pseudo-random numbers:\\n\"\n",
    "      f\"{PR_list}\")"
   ]
  }
 ],
 "metadata": {
  "kernelspec": {
   "display_name": "Python 3",
   "language": "python",
   "name": "python3"
  },
  "language_info": {
   "codemirror_mode": {
    "name": "ipython",
    "version": 3
   },
   "file_extension": ".py",
   "mimetype": "text/x-python",
   "name": "python",
   "nbconvert_exporter": "python",
   "pygments_lexer": "ipython3",
   "version": "3.6.8"
  }
 },
 "nbformat": 4,
 "nbformat_minor": 2
}
