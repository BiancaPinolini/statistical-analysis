{
 "cells": [
  {
   "cell_type": "markdown",
   "metadata": {},
   "source": [
    "# rejection sampling\n",
    "We want to obtain a Landau distribution using the rejection sampling starting from a sample of pseudo-random generated numbers.\n",
    "\n",
    "First of all, we read the numbers generated with the xoroshiro128p algorithm and we convert the list in an array of float (the numbers are too high to be expressed as integers)."
   ]
  },
  {
   "cell_type": "code",
   "execution_count": 1,
   "metadata": {},
   "outputs": [],
   "source": [
    "with open('xoroshiro_results', 'r') as f:\n",
    "    list_num = f. read().splitlines()"
   ]
  },
  {
   "cell_type": "code",
   "execution_count": 2,
   "metadata": {},
   "outputs": [],
   "source": [
    "import numpy as np\n",
    "list_arr = np.asarray(list_num)"
   ]
  },
  {
   "cell_type": "code",
   "execution_count": 3,
   "metadata": {},
   "outputs": [],
   "source": [
    "list_arr = list_arr.astype(np.float)"
   ]
  },
  {
   "cell_type": "markdown",
   "metadata": {},
   "source": [
    "We then import moyal to produce a Landau function"
   ]
  },
  {
   "cell_type": "code",
   "execution_count": 4,
   "metadata": {},
   "outputs": [],
   "source": [
    "from scipy.stats import moyal"
   ]
  },
  {
   "cell_type": "code",
   "execution_count": 5,
   "metadata": {},
   "outputs": [
    {
     "name": "stdout",
     "output_type": "stream",
     "text": [
      "min = 1103527590.0, max = 1.8446739534333243e+19\n"
     ]
    }
   ],
   "source": [
    "num_min = list_arr.min()\n",
    "num_max = list_arr.max()\n",
    "print (f'min = {num_min}, max = {num_max}')"
   ]
  },
  {
   "cell_type": "markdown",
   "metadata": {},
   "source": [
    "We divide the list of 300000 numbers into two smaller lists."
   ]
  },
  {
   "cell_type": "code",
   "execution_count": 6,
   "metadata": {},
   "outputs": [],
   "source": [
    "X = list_arr[:150000]\n",
    "Y = list_arr[150000:]"
   ]
  },
  {
   "cell_type": "code",
   "execution_count": 7,
   "metadata": {},
   "outputs": [
    {
     "name": "stdout",
     "output_type": "stream",
     "text": [
      "X_max = 1.8446739534333243e+19, X_min=1103527590.0\n",
      "Y_max=1.8446509255152273e+19, Y_min=107184290291781.0\n"
     ]
    }
   ],
   "source": [
    "X_max = X.max()\n",
    "X_min = X.min()\n",
    "Y_max = Y.max()\n",
    "Y_min = Y.min()\n",
    "print(f'X_max = {X_max}, X_min={X_min}\\n'\n",
    "      f'Y_max={Y_max}, Y_min={Y_min}')"
   ]
  },
  {
   "cell_type": "markdown",
   "metadata": {},
   "source": [
    "We then want to normalize these lists knowing that the Landau function defined in moyal has as limits:\n",
    "$$x\\in[3,18]\\qquad y\\in[0,0.25]$$"
   ]
  },
  {
   "cell_type": "code",
   "execution_count": 8,
   "metadata": {},
   "outputs": [],
   "source": [
    "div = 2**64-1"
   ]
  },
  {
   "cell_type": "code",
   "execution_count": 9,
   "metadata": {},
   "outputs": [],
   "source": [
    "j = 0\n",
    "for j in range(150000):\n",
    "    X[j] = (X[j] / div)*18-3.\n",
    "    Y[j] = (Y[j] / div)*0.25"
   ]
  },
  {
   "cell_type": "code",
   "execution_count": 10,
   "metadata": {},
   "outputs": [
    {
     "name": "stdout",
     "output_type": "stream",
     "text": [
      "X_max = 14.99999557055851, X_min=-2.999999998923198\n",
      "Y_max=0.24999681761512574, Y_min=1.452618004883324e-06\n"
     ]
    }
   ],
   "source": [
    "X_max = X.max()\n",
    "X_min = X.min()\n",
    "Y_max = Y.max()\n",
    "Y_min = Y.min()\n",
    "print(f'X_max = {X_max}, X_min={X_min}\\n'\n",
    "      f'Y_max={Y_max}, Y_min={Y_min}')"
   ]
  },
  {
   "cell_type": "markdown",
   "metadata": {},
   "source": [
    "We then implement the rejection sampling algorithm as follows."
   ]
  },
  {
   "cell_type": "code",
   "execution_count": 11,
   "metadata": {},
   "outputs": [],
   "source": [
    "# lista in cui salvo i numeri tenunti\n",
    "keep_list = np.array([])"
   ]
  },
  {
   "cell_type": "code",
   "execution_count": 12,
   "metadata": {},
   "outputs": [],
   "source": [
    "for i in range(150000):\n",
    "    xr = X[i]\n",
    "    yr = Y[i]\n",
    "    L = moyal.pdf(xr)\n",
    "    if (yr > L): continue\n",
    "    keep_list = np.append(keep_list, xr)"
   ]
  },
  {
   "cell_type": "code",
   "execution_count": 13,
   "metadata": {},
   "outputs": [
    {
     "name": "stdout",
     "output_type": "stream",
     "text": [
      "I numeri tenuti sono 32976\n"
     ]
    }
   ],
   "source": [
    "print(f'I numeri tenuti sono {len(keep_list)}')"
   ]
  },
  {
   "cell_type": "markdown",
   "metadata": {},
   "source": [
    "Then we draw a histogram with all the numbers we kept."
   ]
  },
  {
   "cell_type": "code",
   "execution_count": 14,
   "metadata": {},
   "outputs": [],
   "source": [
    "import matplotlib.pyplot as plt"
   ]
  },
  {
   "cell_type": "code",
   "execution_count": 15,
   "metadata": {},
   "outputs": [
    {
     "data": {
      "image/png": "[encoded data removed]",
      "text/plain": [
       "<Figure size 432x288 with 1 Axes>"
      ]
     },
     "metadata": {
      "needs_background": "light"
     },
     "output_type": "display_data"
    }
   ],
   "source": [
    "plt.hist(keep_list, bins = 180, color='blue', density=True, histtype='step')\n",
    "plt.show()"
   ]
  }
 ],
 "metadata": {
  "kernelspec": {
   "display_name": "Python 3",
   "language": "python",
   "name": "python3"
  },
  "language_info": {
   "codemirror_mode": {
    "name": "ipython",
    "version": 3
   },
   "file_extension": ".py",
   "mimetype": "text/x-python",
   "name": "python",
   "nbconvert_exporter": "python",
   "pygments_lexer": "ipython3",
   "version": "3.6.8"
  }
 },
 "nbformat": 4,
 "nbformat_minor": 2
}
