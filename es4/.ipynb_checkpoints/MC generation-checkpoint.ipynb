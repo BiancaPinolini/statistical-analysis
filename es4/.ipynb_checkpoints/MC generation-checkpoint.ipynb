{
 "cells": [
  {
   "cell_type": "code",
   "execution_count": 1,
   "metadata": {},
   "outputs": [],
   "source": [
    "import numpy as np\n",
    "import matplotlib.pyplot as plt\n",
    "import math as mt"
   ]
  },
  {
   "cell_type": "code",
   "execution_count": 2,
   "metadata": {},
   "outputs": [],
   "source": [
    "with open('xoroshiro_results', 'r') as f:\n",
    "    list_num = f. read().splitlines()\n",
    "    \n",
    "list_arr = np.asarray(list_num)\n",
    "list_arr = list_arr.astype(np.float)"
   ]
  },
  {
   "cell_type": "code",
   "execution_count": 3,
   "metadata": {},
   "outputs": [],
   "source": [
    "X = list_arr[:60000]\n",
    "Y = list_arr[60000:120000]\n",
    "Z = list_arr[120000:180000]\n",
    "P = list_arr[180000:240000]\n",
    "T = list_arr[240000:]"
   ]
  },
  {
   "cell_type": "code",
   "execution_count": 4,
   "metadata": {},
   "outputs": [],
   "source": [
    "div = 2**64-1"
   ]
  },
  {
   "cell_type": "code",
   "execution_count": 5,
   "metadata": {},
   "outputs": [],
   "source": [
    "for j in range(60000):\n",
    "    P[j] = (P[j] / div)*10"
   ]
  },
  {
   "cell_type": "code",
   "execution_count": 8,
   "metadata": {},
   "outputs": [
    {
     "data": {
      "image/png": "[encoded data removed]",
      "text/plain": [
       "<Figure size 432x288 with 1 Axes>"
      ]
     },
     "metadata": {
      "needs_background": "light"
     },
     "output_type": "display_data"
    }
   ],
   "source": [
    "### plot momentum\n",
    "plt.hist(P, bins = 100, color='blue', density=True, histtype='step')\n",
    "plt.xlabel(\"p (GeV)\")\n",
    "plt.ylabel(\"N\")\n",
    "plt.show()"
   ]
  },
  {
   "cell_type": "markdown",
   "metadata": {},
   "source": [
    "### plot space\n",
    "\n",
    "from mpl_toolkits.mplot3d import Axes3D \n",
    "\n",
    "import matplotlib.pyplot as plt\n",
    "import numpy as np\n",
    "\n",
    "fig = plt.figure(figsize=(15, 15))\n",
    "ax = fig.add_subplot(111, projection='3d')\n",
    "ax.scatter(X, Y, Z, marker='o', color='red')\n",
    "ax.set_xlabel('x')\n",
    "ax.set_ylabel('y')\n",
    "ax.set_zlabel('z')\n",
    "plt.show()"
   ]
  },
  {
   "cell_type": "markdown",
   "metadata": {},
   "source": [
    "# PL and PT"
   ]
  },
  {
   "cell_type": "code",
   "execution_count": 10,
   "metadata": {},
   "outputs": [],
   "source": [
    "for j in range(60000):\n",
    "    T[j] = (T[j] / div)*2*mt.pi"
   ]
  },
  {
   "cell_type": "code",
   "execution_count": 11,
   "metadata": {},
   "outputs": [],
   "source": [
    "PL = np.array([])\n",
    "PT = np.array([])"
   ]
  },
  {
   "cell_type": "code",
   "execution_count": 12,
   "metadata": {},
   "outputs": [],
   "source": [
    "for j in range(60000):\n",
    "    pl = abs(P[j]*mt.cos(T[j]))\n",
    "    pt = P[j]*mt.sqrt(1-mt.cos(T[j])**2)\n",
    "    PL = np.append(PL, pl)\n",
    "    PT = np.append(PT, pt)"
   ]
  },
  {
   "cell_type": "code",
   "execution_count": 17,
   "metadata": {},
   "outputs": [
    {
     "data": {
      "image/png": "[encoded data removed]",
      "text/plain": [
       "<Figure size 432x288 with 1 Axes>"
      ]
     },
     "metadata": {
      "needs_background": "light"
     },
     "output_type": "display_data"
    }
   ],
   "source": [
    "### plot momentum\n",
    "plt.hist(PL, bins = 100, color='blue', density=True, histtype='step', label = '$p_L$')\n",
    "plt.hist(PT, bins = 100, color='red', density=True, histtype='step', label = '$p_T$')\n",
    "plt.legend()\n",
    "plt.xlabel(\"p (GeV)\")\n",
    "plt.ylabel(\"N\")\n",
    "plt.show()"
   ]
  },
  {
   "cell_type": "markdown",
   "metadata": {},
   "source": [
    "import pylab\n",
    "from mpl_toolkits.mplot3d.axes3d import Axes3D\n",
    "from matplotlib import cm\n",
    "\n",
    "x = PT\n",
    "y = PL\n",
    "\n",
    "fig = plt.figure(figsize=(15, 15)) \n",
    "ax = fig.add_subplot(111, projection='3d')\n",
    "\n",
    "hist, xedges, yedges = np.histogram2d(x, y, bins=(240,240))\n",
    "xpos, ypos = np.meshgrid(xedges[:-1]+xedges[1:], yedges[:-1]+yedges[1:])\n",
    "\n",
    "xpos = xpos.flatten()/2.\n",
    "ypos = ypos.flatten()/2.\n",
    "zpos = np.zeros_like (xpos)\n",
    "\n",
    "dx = xedges [1] - xedges [0]\n",
    "dy = yedges [1] - yedges [0]\n",
    "dz = hist.flatten()\n",
    "\n",
    "cmap = cm.get_cmap('jet')\n",
    "max_height = np.max(dz)\n",
    "min_height = np.min(dz)\n",
    "rgba = [cmap((k-min_height)/max_height) for k in dz] \n",
    "\n",
    "ax.bar3d(xpos, ypos, zpos, dx, dy, dz, color=rgba, zsort='average')\n",
    "plt.xlabel(\"$P_T$ (GeV)\")\n",
    "plt.ylabel(\"$P_L$ (GeV)\")\n",
    "plt.show()"
   ]
  },
  {
   "cell_type": "code",
   "execution_count": 9,
   "metadata": {
    "scrolled": true
   },
   "outputs": [],
   "source": [
    "import pandas as pd"
   ]
  },
  {
   "cell_type": "code",
   "execution_count": 10,
   "metadata": {},
   "outputs": [],
   "source": [
    "data = pd.DataFrame(\n",
    "    {\n",
    "        'X': X,\n",
    "        'Y': Y,\n",
    "        'Z': Z,\n",
    "        'P': P,\n",
    "        '$\\theta$': T,\n",
    "        'PL':PL, \n",
    "        'PT':PT\n",
    "    }\n",
    ")"
   ]
  },
  {
   "cell_type": "code",
   "execution_count": 11,
   "metadata": {
    "scrolled": true
   },
   "outputs": [
    {
     "data": {
      "text/html": [
       "<div>\n",
       "<style scoped>\n",
       "    .dataframe tbody tr th:only-of-type {\n",
       "        vertical-align: middle;\n",
       "    }\n",
       "\n",
       "    .dataframe tbody tr th {\n",
       "        vertical-align: top;\n",
       "    }\n",
       "\n",
       "    .dataframe thead th {\n",
       "        text-align: right;\n",
       "    }\n",
       "</style>\n",
       "<table border=\"1\" class=\"dataframe\">\n",
       "  <thead>\n",
       "    <tr style=\"text-align: right;\">\n",
       "      <th></th>\n",
       "      <th>X</th>\n",
       "      <th>Y</th>\n",
       "      <th>Z</th>\n",
       "      <th>P</th>\n",
       "      <th>$\\theta$</th>\n",
       "      <th>PL</th>\n",
       "      <th>PT</th>\n",
       "    </tr>\n",
       "  </thead>\n",
       "  <tbody>\n",
       "    <tr>\n",
       "      <th>0</th>\n",
       "      <td>1.103528e+09</td>\n",
       "      <td>5.080650e+17</td>\n",
       "      <td>1.271024e+19</td>\n",
       "      <td>5.366743</td>\n",
       "      <td>2.744146</td>\n",
       "      <td>4.948418</td>\n",
       "      <td>2.077280</td>\n",
       "    </tr>\n",
       "    <tr>\n",
       "      <th>1</th>\n",
       "      <td>4.112170e+18</td>\n",
       "      <td>1.578383e+19</td>\n",
       "      <td>2.353373e+18</td>\n",
       "      <td>9.765948</td>\n",
       "      <td>3.908518</td>\n",
       "      <td>7.031948</td>\n",
       "      <td>6.776831</td>\n",
       "    </tr>\n",
       "    <tr>\n",
       "      <th>2</th>\n",
       "      <td>1.841057e+19</td>\n",
       "      <td>7.429007e+18</td>\n",
       "      <td>1.336695e+19</td>\n",
       "      <td>3.032928</td>\n",
       "      <td>5.396148</td>\n",
       "      <td>1.915936</td>\n",
       "      <td>2.351136</td>\n",
       "    </tr>\n",
       "    <tr>\n",
       "      <th>3</th>\n",
       "      <td>1.664838e+19</td>\n",
       "      <td>1.828035e+19</td>\n",
       "      <td>6.710494e+18</td>\n",
       "      <td>4.489837</td>\n",
       "      <td>2.720398</td>\n",
       "      <td>4.097430</td>\n",
       "      <td>1.835675</td>\n",
       "    </tr>\n",
       "    <tr>\n",
       "      <th>4</th>\n",
       "      <td>6.287101e+18</td>\n",
       "      <td>1.219377e+19</td>\n",
       "      <td>2.297079e+18</td>\n",
       "      <td>4.015651</td>\n",
       "      <td>4.693456</td>\n",
       "      <td>0.076025</td>\n",
       "      <td>4.014931</td>\n",
       "    </tr>\n",
       "    <tr>\n",
       "      <th>5</th>\n",
       "      <td>9.491289e+18</td>\n",
       "      <td>3.727635e+18</td>\n",
       "      <td>3.428383e+17</td>\n",
       "      <td>7.084756</td>\n",
       "      <td>5.185926</td>\n",
       "      <td>3.230908</td>\n",
       "      <td>6.305157</td>\n",
       "    </tr>\n",
       "    <tr>\n",
       "      <th>6</th>\n",
       "      <td>1.381415e+19</td>\n",
       "      <td>1.773815e+19</td>\n",
       "      <td>2.567772e+18</td>\n",
       "      <td>2.532706</td>\n",
       "      <td>1.058779</td>\n",
       "      <td>1.240866</td>\n",
       "      <td>2.207907</td>\n",
       "    </tr>\n",
       "    <tr>\n",
       "      <th>7</th>\n",
       "      <td>4.180057e+18</td>\n",
       "      <td>4.783356e+18</td>\n",
       "      <td>9.276700e+18</td>\n",
       "      <td>7.129019</td>\n",
       "      <td>0.519479</td>\n",
       "      <td>6.188545</td>\n",
       "      <td>3.539043</td>\n",
       "    </tr>\n",
       "    <tr>\n",
       "      <th>8</th>\n",
       "      <td>1.430281e+19</td>\n",
       "      <td>1.197381e+19</td>\n",
       "      <td>9.614016e+18</td>\n",
       "      <td>9.931401</td>\n",
       "      <td>1.345465</td>\n",
       "      <td>2.218962</td>\n",
       "      <td>9.680337</td>\n",
       "    </tr>\n",
       "    <tr>\n",
       "      <th>9</th>\n",
       "      <td>1.094761e+19</td>\n",
       "      <td>6.039125e+18</td>\n",
       "      <td>1.663762e+19</td>\n",
       "      <td>9.955091</td>\n",
       "      <td>2.719346</td>\n",
       "      <td>9.080742</td>\n",
       "      <td>4.079701</td>\n",
       "    </tr>\n",
       "  </tbody>\n",
       "</table>\n",
       "</div>"
      ],
      "text/plain": [
       "              X             Y             Z         P  $\\theta$        PL  \\\n",
       "0  1.103528e+09  5.080650e+17  1.271024e+19  5.366743  2.744146  4.948418   \n",
       "1  4.112170e+18  1.578383e+19  2.353373e+18  9.765948  3.908518  7.031948   \n",
       "2  1.841057e+19  7.429007e+18  1.336695e+19  3.032928  5.396148  1.915936   \n",
       "3  1.664838e+19  1.828035e+19  6.710494e+18  4.489837  2.720398  4.097430   \n",
       "4  6.287101e+18  1.219377e+19  2.297079e+18  4.015651  4.693456  0.076025   \n",
       "5  9.491289e+18  3.727635e+18  3.428383e+17  7.084756  5.185926  3.230908   \n",
       "6  1.381415e+19  1.773815e+19  2.567772e+18  2.532706  1.058779  1.240866   \n",
       "7  4.180057e+18  4.783356e+18  9.276700e+18  7.129019  0.519479  6.188545   \n",
       "8  1.430281e+19  1.197381e+19  9.614016e+18  9.931401  1.345465  2.218962   \n",
       "9  1.094761e+19  6.039125e+18  1.663762e+19  9.955091  2.719346  9.080742   \n",
       "\n",
       "         PT  \n",
       "0  2.077280  \n",
       "1  6.776831  \n",
       "2  2.351136  \n",
       "3  1.835675  \n",
       "4  4.014931  \n",
       "5  6.305157  \n",
       "6  2.207907  \n",
       "7  3.539043  \n",
       "8  9.680337  \n",
       "9  4.079701  "
      ]
     },
     "execution_count": 11,
     "metadata": {},
     "output_type": "execute_result"
    }
   ],
   "source": [
    "data[:10]"
   ]
  },
  {
   "cell_type": "markdown",
   "metadata": {},
   "source": [
    "# $<P_T>(P_L)$ distribution"
   ]
  },
  {
   "cell_type": "code",
   "execution_count": null,
   "metadata": {},
   "outputs": [],
   "source": []
  }
 ],
 "metadata": {
  "kernelspec": {
   "display_name": "Python 3",
   "language": "python",
   "name": "python3"
  },
  "language_info": {
   "codemirror_mode": {
    "name": "ipython",
    "version": 3
   },
   "file_extension": ".py",
   "mimetype": "text/x-python",
   "name": "python",
   "nbconvert_exporter": "python",
   "pygments_lexer": "ipython3",
   "version": "3.6.8"
  }
 },
 "nbformat": 4,
 "nbformat_minor": 2
}
